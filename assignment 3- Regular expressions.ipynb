{
 "cells": [
  {
   "cell_type": "markdown",
   "id": "e7776526",
   "metadata": {},
   "source": [
    "Eithar Elfatih Burie Abdelrahman - batch DS2403"
   ]
  },
  {
   "cell_type": "markdown",
   "id": "5f8e7d0f",
   "metadata": {},
   "source": [
    "assignment 3"
   ]
  },
  {
   "cell_type": "code",
   "execution_count": 1,
   "id": "2866fb71",
   "metadata": {},
   "outputs": [],
   "source": [
    "import regex as re\n",
    "import numpy as np\n",
    "import pandas as pd"
   ]
  },
  {
   "cell_type": "markdown",
   "id": "55ff83ae",
   "metadata": {},
   "source": [
    "---------------------------------------------------------------------------------------------------------------------"
   ]
  },
  {
   "cell_type": "markdown",
   "id": "24f8fa74",
   "metadata": {},
   "source": [
    "Question 1 - Write a Python program to replace all occurrences of a space, comma, or dot with a colon."
   ]
  },
  {
   "cell_type": "code",
   "execution_count": 123,
   "id": "a3d58f96",
   "metadata": {},
   "outputs": [
    {
     "name": "stdout",
     "output_type": "stream",
     "text": [
      "All:space::fullstops::and:commas:will:be:replaced:with:colons:\n"
     ]
    }
   ],
   "source": [
    "#define function\n",
    "def Replace_With_Colon(string):\n",
    "    #replace all three characters with colon\n",
    "    Replaced_String=string.replace(' ', ':').replace(',' , ':').replace('.', ':')\n",
    "    return Replaced_String\n",
    "#string to replace characters\n",
    "string='All space, fullstops, and commas will be replaced with colons.'# replace space, comma, or dot with a colon.\n",
    "#call function to replace\n",
    "Replaced_String=Replace_With_Colon(string)\n",
    "#print new string\n",
    "print(Replaced_String)\n"
   ]
  },
  {
   "cell_type": "markdown",
   "id": "9a257e59",
   "metadata": {},
   "source": [
    "---------------------------------------------------------------------------------------------------------------------"
   ]
  },
  {
   "cell_type": "markdown",
   "id": "e165e9ed",
   "metadata": {},
   "source": [
    "Question 2 - Create a dataframe using the dictionary below and remove everything (commas(,),!,XXXX,;,etc.) from the columns except words."
   ]
  },
  {
   "cell_type": "code",
   "execution_count": 124,
   "id": "aadfff37",
   "metadata": {},
   "outputs": [
    {
     "name": "stdout",
     "output_type": "stream",
     "text": [
      "                 SUMMARY\n",
      "0           hello world \n",
      "1              XXXX test\n",
      "2     four  five  six   \n"
     ]
    }
   ],
   "source": [
    "#create dataframe\n",
    "data={'SUMMARY':['hello,world!','XXXX test','123four:;five:;six...']}\n",
    "df=pd.DataFrame(data)\n",
    "\n",
    "#remove all except words from SUMMARY column\n",
    "df['SUMMARY']=df['SUMMARY'].str.replace('[^a-zA-Z\\s]', ' ' , regex=True)\n",
    "\n",
    "#print modified dataframe\n",
    "print(df)"
   ]
  },
  {
   "cell_type": "code",
   "execution_count": null,
   "id": "f1fcfd14",
   "metadata": {},
   "outputs": [],
   "source": [
    "#not sure how to get rid of XXXX"
   ]
  },
  {
   "cell_type": "markdown",
   "id": "ca282ce5",
   "metadata": {},
   "source": [
    "---------------------------------------------------------------------------------------------------------------------"
   ]
  },
  {
   "cell_type": "markdown",
   "id": "e028fc8f",
   "metadata": {},
   "source": [
    "Question 3- Create a function in python to find all words that are at least 4 characters long in a string. The use of the re.compile() method is mandatory."
   ]
  },
  {
   "cell_type": "code",
   "execution_count": 125,
   "id": "d1ba70dc",
   "metadata": {},
   "outputs": [
    {
     "name": "stdout",
     "output_type": "stream",
     "text": [
      "All words that are four characters or more are: ['Today', 'weather', 'nice', 'hope', 'like', 'this', 'tomorrow', 'because', 'going', 'park']\n"
     ]
    }
   ],
   "source": [
    "#define function\n",
    "def word_length_four(string):\n",
    "    #define pattern (4 characters)\n",
    "    pattern=re.compile(r'\\b\\w{4,}\\b')\n",
    "    return pattern.findall(string)\n",
    "\n",
    "\n",
    "string=\"Today the weather is nice, I hope it's like this tomorrow because we are going to the park.\"\n",
    "print ('All words that are four characters or more are:',word_length_four(string))\n"
   ]
  },
  {
   "cell_type": "markdown",
   "id": "7409dcb3",
   "metadata": {},
   "source": [
    "---------------------------------------------------------------------------------------------------------------------"
   ]
  },
  {
   "cell_type": "markdown",
   "id": "88baf895",
   "metadata": {},
   "source": [
    "Question 4-Create a function in python to find all three, four, and five character words in a string. The use of the re.compile() method is mandatory."
   ]
  },
  {
   "cell_type": "code",
   "execution_count": 122,
   "id": "5ed68c21",
   "metadata": {},
   "outputs": [
    {
     "name": "stdout",
     "output_type": "stream",
     "text": [
      "All words that are three to five characters or more are: ['think', 'easy', 'find', 'good', 'this', 'city', 'because', 'there', 'always', 'buildings', 'businesses', 'opening']\n"
     ]
    }
   ],
   "source": [
    "#define \n",
    "def word_length_ThreeToFive(string):\n",
    "    pattern=re.compile(r'\\b\\w{3,5}\\b')\n",
    "    return pattern.findall(string)\n",
    "\n",
    "\n",
    "string=\"I think it's easy to find a good job in this city, because there are always new buildings and businesses opening .\"\n",
    "print ('All words that are three to five characters or more are:',word_length_four(string))\n"
   ]
  },
  {
   "cell_type": "markdown",
   "id": "2f94e368",
   "metadata": {},
   "source": [
    "---------------------------------------------------------------------------------------------------------------------"
   ]
  },
  {
   "cell_type": "markdown",
   "id": "baaca93c",
   "metadata": {},
   "source": [
    "question 5- Create a function in python to remove parenthesis in a list of strings. The use of re.compile() method is mandatory."
   ]
  },
  {
   "cell_type": "code",
   "execution_count": 108,
   "id": "1aaee360",
   "metadata": {},
   "outputs": [
    {
     "name": "stdout",
     "output_type": "stream",
     "text": [
      "['example ', 'hr@fliprobo ', 'github ', 'Hello ', 'Data ']\n"
     ]
    }
   ],
   "source": [
    "def remove_parenthesis(string):\n",
    "    \n",
    "    \n",
    "    pattern=re.compile(r\"\\(.*?\\)\")\n",
    "             \n",
    "    changed_sentence=re.sub(pattern, '', string)\n",
    "    \n",
    "    return changed_sentence\n",
    "\n",
    "strings=[\"example (.com)\", \"hr@fliprobo (.com)\", \"github (.com)\", \"Hello (Data Science World)\", \"Data (Scientist)\"]\n",
    "\n",
    "No_Parenthesis=[remove_parenthesis(string) for string in strings]\n",
    "print(No_Parenthesis)\n"
   ]
  },
  {
   "cell_type": "markdown",
   "id": "dd19a38a",
   "metadata": {},
   "source": [
    "---------------------------------------------------------------------------------------------------------------------"
   ]
  },
  {
   "cell_type": "markdown",
   "id": "7b8e0756",
   "metadata": {},
   "source": [
    "Question 6 - Write a python program to remove the parenthesis area from the text stored in the text file using Regular Expression."
   ]
  },
  {
   "cell_type": "code",
   "execution_count": 20,
   "id": "90e13674",
   "metadata": {},
   "outputs": [],
   "source": [
    "#Create file\n",
    "f1=open('C:\\\\Users\\\\eitha\\\\OneDrive\\\\Documents\\\\fliprobo\\\\QuestionSix.txt','w')\n",
    "\n",
    "f1.write(' [\"example (.com)\", \"hr@fliprobo (.com)\", \"github (.com)\", \"Hello (Data Science World)\", \"Data (Scientist)\"]')\n",
    "\n",
    "f1.close()\n"
   ]
  },
  {
   "cell_type": "code",
   "execution_count": 21,
   "id": "fcb1f2d8",
   "metadata": {
    "scrolled": true
   },
   "outputs": [
    {
     "name": "stdout",
     "output_type": "stream",
     "text": [
      " [\"example \", \"hr@fliprobo \", \"github \", \"Hello \", \"Data \"]\n"
     ]
    }
   ],
   "source": [
    "def remove_parenthesis(file_path):\n",
    "    \n",
    "    with open (file_path, 'r') as file:\n",
    "        text=file.read()\n",
    "\n",
    "    pattern=r'\\((.*?)\\)'\n",
    "             \n",
    "    sentence_without=re.sub(pattern, '', text)\n",
    "    \n",
    "    return sentence_without\n",
    "\n",
    "Question_Six=\"C:\\\\Users\\\\eitha\\\\OneDrive\\\\Documents\\\\fliprobo\\\\QuestionSix.txt\"\n",
    "    \n",
    "clean_sentence=remove_parenthesis(Question_Six)\n",
    "print(clean_sentence) "
   ]
  },
  {
   "cell_type": "markdown",
   "id": "01ea8870",
   "metadata": {},
   "source": [
    "Question 7- Write a regular expression in Python to split a string into uppercase letters."
   ]
  },
  {
   "cell_type": "code",
   "execution_count": 26,
   "id": "72abac91",
   "metadata": {},
   "outputs": [
    {
     "name": "stdout",
     "output_type": "stream",
     "text": [
      " We Want To Seperate This Sentence.\n"
     ]
    }
   ],
   "source": [
    "import re \n",
    "def Space_Before_Capital(string):\n",
    "    new_string=re.sub (r'([A-Z])', r' \\1', string)\n",
    "    return new_string \n",
    "\n",
    "\n",
    "string=\"WeWantToSeperateThisSentence.\"\n",
    "results=Space_Before_Capital(string)\n",
    "\n",
    "print(results)"
   ]
  },
  {
   "cell_type": "markdown",
   "id": "ad4faa8d",
   "metadata": {},
   "source": [
    "---------------------------------------------------------------------------------------------------------------------"
   ]
  },
  {
   "cell_type": "markdown",
   "id": "a739b52e",
   "metadata": {},
   "source": [
    "Question 8- Create a function in python to insert spaces between words starting with numbers.\n"
   ]
  },
  {
   "cell_type": "code",
   "execution_count": 126,
   "id": "bf50736f",
   "metadata": {
    "scrolled": true
   },
   "outputs": [
    {
     "name": "stdout",
     "output_type": "stream",
     "text": [
      "Wehave 2many 3Things 4to 5choose 6from\n"
     ]
    }
   ],
   "source": [
    "def space_before_number(string):\n",
    "    pattern=r'(?<=\\D)(\\d)'\n",
    "    separated=re.sub(pattern, r' \\1', string)\n",
    "    return separated\n",
    "\n",
    "\n",
    "string=\"Wehave2many3Things4to5choose6from\"\n",
    "result=space_before_number(string)\n",
    "\n",
    "print(result)"
   ]
  },
  {
   "cell_type": "markdown",
   "id": "323dfc5d",
   "metadata": {},
   "source": [
    "---------------------------------------------------------------------------------------------------------------------"
   ]
  },
  {
   "cell_type": "markdown",
   "id": "f64ea049",
   "metadata": {},
   "source": [
    "Question 9- Create a function in python to insert spaces between words starting with capital letters or with numbers\n",
    "(STILL CHECK)"
   ]
  },
  {
   "cell_type": "code",
   "execution_count": 127,
   "id": "6c6dbccd",
   "metadata": {},
   "outputs": [
    {
     "name": "stdout",
     "output_type": "stream",
     "text": [
      " We Have2 many Things4 to Choose6 from\n"
     ]
    }
   ],
   "source": [
    "def space_caps_and_number(string):\n",
    "    pattern=r'(\\d)|(?=[A-Z])'\n",
    "    separated=re.sub(pattern, r'\\1 ', string)\n",
    "    return separated\n",
    "    \n",
    "\n",
    "string=\"WeHave2manyThings4toChoose6from\"\n",
    "result=space_caps_and_number(string)\n",
    "\n",
    "print(result)"
   ]
  },
  {
   "cell_type": "code",
   "execution_count": null,
   "id": "8cef66f3",
   "metadata": {
    "collapsed": true
   },
   "outputs": [],
   "source": [
    "#not sure how to split before number rather thn after"
   ]
  },
  {
   "cell_type": "markdown",
   "id": "87a5cec9",
   "metadata": {},
   "source": [
    "---------------------------------------------------------------------------------------------------------------------"
   ]
  },
  {
   "cell_type": "markdown",
   "id": "b630fbc5",
   "metadata": {},
   "source": [
    "Question 10- Use the github link below to read the data and create a dataframe. After creating the dataframe extract the first 6 letters of each country and store in the dataframe under a new column called first_five_letters."
   ]
  },
  {
   "cell_type": "code",
   "execution_count": 129,
   "id": "daae88f6",
   "metadata": {},
   "outputs": [
    {
     "name": "stdout",
     "output_type": "stream",
     "text": [
      "       Country          Region  Happiness Rank  Happiness Score  \\\n",
      "0  Switzerland  Western Europe               1            7.587   \n",
      "1      Iceland  Western Europe               2            7.561   \n",
      "2      Denmark  Western Europe               3            7.527   \n",
      "3       Norway  Western Europe               4            7.522   \n",
      "4       Canada   North America               5            7.427   \n",
      "\n",
      "   Standard Error  Economy (GDP per Capita)   Family  \\\n",
      "0         0.03411                   1.39651  1.34951   \n",
      "1         0.04884                   1.30232  1.40223   \n",
      "2         0.03328                   1.32548  1.36058   \n",
      "3         0.03880                   1.45900  1.33095   \n",
      "4         0.03553                   1.32629  1.32261   \n",
      "\n",
      "   Health (Life Expectancy)  Freedom  Trust (Government Corruption)  \\\n",
      "0                   0.94143  0.66557                        0.41978   \n",
      "1                   0.94784  0.62877                        0.14145   \n",
      "2                   0.87464  0.64938                        0.48357   \n",
      "3                   0.88521  0.66973                        0.36503   \n",
      "4                   0.90563  0.63297                        0.32957   \n",
      "\n",
      "   Generosity  Dystopia Residual First_Five_Letters  \n",
      "0     0.29678            2.51738              Switz  \n",
      "1     0.43630            2.70201              Icela  \n",
      "2     0.34139            2.49204              Denma  \n",
      "3     0.34699            2.46531              Norwa  \n",
      "4     0.45811            2.45176              Canad  \n"
     ]
    }
   ],
   "source": [
    "data_1='https://raw.githubusercontent.com/dsrscientist/DSData/master/happiness_score_dataset.csv'\n",
    "\n",
    "df=pd.read_csv(data_1)\n",
    "\n",
    "df['First_Five_Letters']=df['Country'].str[:5]\n",
    "\n",
    "print(df.head())"
   ]
  },
  {
   "cell_type": "markdown",
   "id": "52fc1ec7",
   "metadata": {},
   "source": [
    "---------------------------------------------------------------------------------------------------------------------"
   ]
  },
  {
   "cell_type": "markdown",
   "id": "b93ab86c",
   "metadata": {},
   "source": [
    "Question 11- Write a Python program to match a string that contains only upper and lowercase letters, numbers, and underscores."
   ]
  },
  {
   "cell_type": "code",
   "execution_count": 66,
   "id": "ce30a5bc",
   "metadata": {},
   "outputs": [
    {
     "name": "stdout",
     "output_type": "stream",
     "text": [
      "This string is a match.\n",
      "This string is not a match.\n"
     ]
    }
   ],
   "source": [
    "def String_Match (string):\n",
    "    #define pattern\n",
    "    pattern=r'^[A-Za-z0-9_]+$'\n",
    "    if re.match(pattern,string):\n",
    "        print('This string is a match.')\n",
    "    else:\n",
    "        print('This string is not a match.')\n",
    "        \n",
    "String_Match('This_is_Question_11')\n",
    "String_Match('This_is_Question_11_and has white space and cahracters')"
   ]
  },
  {
   "cell_type": "markdown",
   "id": "53c6ce0f",
   "metadata": {},
   "source": [
    "---------------------------------------------------------------------------------------------------------------------"
   ]
  },
  {
   "cell_type": "markdown",
   "id": "d65ff694",
   "metadata": {},
   "source": [
    "Question 12-Write a Python program where a string will start with a specific number. "
   ]
  },
  {
   "cell_type": "code",
   "execution_count": 90,
   "id": "2eb18b51",
   "metadata": {},
   "outputs": [
    {
     "name": "stdout",
     "output_type": "stream",
     "text": [
      "The string '123ABC' does not starts with the number 456.\n"
     ]
    }
   ],
   "source": [
    "def Begins_with_number(string,number):\n",
    "    number_str=str(number)\n",
    "    \n",
    "    if string.startswith(number_str):\n",
    "        return True\n",
    "    else:\n",
    "        return False\n",
    "\n",
    "string='123ABC'\n",
    "number= 456\n",
    "\n",
    "if Begins_with_number(string,number):\n",
    "    print(f\"The string '{string}' starts with the number {number}.\")\n",
    "else:\n",
    "    print(f\"The string '{string}' does not starts with the number {number}.\")\n",
    "    "
   ]
  },
  {
   "cell_type": "markdown",
   "id": "1bbdb8c0",
   "metadata": {},
   "source": [
    "---------------------------------------------------------------------------------------------------------------------"
   ]
  },
  {
   "cell_type": "markdown",
   "id": "1d8d5e9d",
   "metadata": {},
   "source": [
    "Question 13-Write a Python program to remove leading zeros from an IP address."
   ]
  },
  {
   "cell_type": "code",
   "execution_count": 68,
   "id": "59566a8e",
   "metadata": {},
   "outputs": [
    {
     "name": "stdout",
     "output_type": "stream",
     "text": [
      "216.8.94.196\n"
     ]
    }
   ],
   "source": [
    "ip= '216.08.094.196'\n",
    "new_ip=re.sub('\\.[0]*', '.', ip)\n",
    "\n",
    "print(new_ip)"
   ]
  },
  {
   "cell_type": "markdown",
   "id": "ea288405",
   "metadata": {},
   "source": [
    "---------------------------------------------------------------------------------------------------------------------"
   ]
  },
  {
   "cell_type": "markdown",
   "id": "5a6a93d3",
   "metadata": {},
   "source": [
    "Question 14- Write a regular expression in python to match a date string in the form of Month name followed by day number and year stored in a text file."
   ]
  },
  {
   "cell_type": "code",
   "execution_count": 115,
   "id": "342b0355",
   "metadata": {},
   "outputs": [],
   "source": [
    "#create file \n",
    "dates=open('C:\\\\Users\\\\eitha\\\\OneDrive\\\\Documents\\\\fliprobo\\\\QuestionEleven.txt','w')\n",
    "dates.write('I was born on April 18th 1991')\n",
    "dates.close()"
   ]
  },
  {
   "cell_type": "code",
   "execution_count": 119,
   "id": "76e0ad6f",
   "metadata": {},
   "outputs": [
    {
     "name": "stdout",
     "output_type": "stream",
     "text": [
      "['April 18th 1991']\n"
     ]
    }
   ],
   "source": [
    "with open ('C:\\\\Users\\\\eitha\\\\OneDrive\\\\Documents\\\\fliprobo\\\\QuestionEleven.txt','r') as file:\n",
    "    QuestionEleven=file.read()\n",
    "    =define date pattern\n",
    "    pattern=r'\\b([A-Z][a-z]+ \\d{1,2}(?:st|nd|rd|th)? \\d{4})\\b'\n",
    "\n",
    "   \n",
    "    matches=re.findall(pattern, QuestionEleven)\n",
    "    print(matches)    "
   ]
  },
  {
   "cell_type": "markdown",
   "id": "958f8e24",
   "metadata": {},
   "source": [
    "---------------------------------------------------------------------------------------------------------------------"
   ]
  },
  {
   "cell_type": "markdown",
   "id": "eeec42dc",
   "metadata": {},
   "source": [
    "Question 15- Write a Python program to search some literals strings in a string. "
   ]
  },
  {
   "cell_type": "code",
   "execution_count": 70,
   "id": "d13ae631",
   "metadata": {},
   "outputs": [
    {
     "name": "stdout",
     "output_type": "stream",
     "text": [
      "Searching for 'fox' in 'The quick brown fox jumps over the lazy dog.' ->\n",
      "This is a match.\n",
      "Searching for 'bird' in 'The quick brown fox jumps over the lazy dog.' ->\n",
      "This is not a match.\n",
      "Searching for 'cat' in 'The quick brown fox jumps over the lazy dog.' ->\n",
      "This is not a match.\n"
     ]
    }
   ],
   "source": [
    "patterns=['fox', 'bird', 'cat']\n",
    "string= 'The quick brown fox jumps over the lazy dog.'\n",
    "for pattern in patterns:\n",
    "    print (\"Searching for '%s' in '%s' ->\" % (pattern, string),)\n",
    "    if re.search(pattern, string):\n",
    "        print('This is a match.')\n",
    "    else: \n",
    "        print('This is not a match.')\n"
   ]
  },
  {
   "cell_type": "markdown",
   "id": "242a1932",
   "metadata": {},
   "source": [
    "---------------------------------------------------------------------------------------------------------------------"
   ]
  },
  {
   "cell_type": "markdown",
   "id": "9b47efb1",
   "metadata": {},
   "source": [
    "Question 16- Write a Python program to search a literals string in a string and also find the location within the original string where the pattern occurs"
   ]
  },
  {
   "cell_type": "code",
   "execution_count": 130,
   "id": "f2e96057",
   "metadata": {},
   "outputs": [
    {
     "name": "stdout",
     "output_type": "stream",
     "text": [
      "Found 'fox' in ' The quick brown fox jumps over the lazy dog.' from 17 to 20 \n"
     ]
    }
   ],
   "source": [
    "pattern= 'fox'\n",
    "text= ' The quick brown fox jumps over the lazy dog.'\n",
    "match=re.search(pattern, text)\n",
    "s=match.start()\n",
    "e=match.end()\n",
    "print(\"Found '%s' in '%s' from %d to %d \" % (match.re.pattern, match.string,s,e))"
   ]
  },
  {
   "cell_type": "markdown",
   "id": "80e1c212",
   "metadata": {},
   "source": [
    "---------------------------------------------------------------------------------------------------------------------"
   ]
  },
  {
   "cell_type": "markdown",
   "id": "d500a96e",
   "metadata": {},
   "source": [
    "Question 17- Write a Python program to find the substrings within a string."
   ]
  },
  {
   "cell_type": "code",
   "execution_count": 131,
   "id": "91b92437",
   "metadata": {},
   "outputs": [
    {
     "name": "stdout",
     "output_type": "stream",
     "text": [
      "Found \"exercises\"\n",
      "Found \"exercises\"\n",
      "Found \"exercises\"\n"
     ]
    }
   ],
   "source": [
    "string= 'Python exercises, PHP exercises, C# exercises'\n",
    "pattern= 'exercises'\n",
    "for match in re.findall(pattern, string):\n",
    "    print('Found \"%s\"' % match )"
   ]
  },
  {
   "cell_type": "markdown",
   "id": "1eec76f6",
   "metadata": {},
   "source": [
    "---------------------------------------------------------------------------------------------------------------------"
   ]
  },
  {
   "cell_type": "markdown",
   "id": "d7af405e",
   "metadata": {},
   "source": [
    "Question 18- Write a Python program to find the occurrence and position of the substrings within a string."
   ]
  },
  {
   "cell_type": "code",
   "execution_count": 132,
   "id": "ade487c2",
   "metadata": {},
   "outputs": [
    {
     "name": "stdout",
     "output_type": "stream",
     "text": [
      "Found \"exercises\" at 7:16\n",
      "Found \"exercises\" at 22:31\n",
      "Found \"exercises\" at 36:45\n"
     ]
    }
   ],
   "source": [
    "string= 'Python exercises, PHP exercises, C# exercises'\n",
    "pattern='exercises'\n",
    "for match in re.finditer(pattern,string):\n",
    "    s=match.start()\n",
    "    e=match.end()\n",
    "    print ('Found \"%s\" at %d:%d' % (string[s:e],s,e))\n",
    "    "
   ]
  },
  {
   "cell_type": "markdown",
   "id": "a7cb30be",
   "metadata": {},
   "source": [
    "---------------------------------------------------------------------------------------------------------------------"
   ]
  },
  {
   "cell_type": "markdown",
   "id": "336a3e41",
   "metadata": {},
   "source": [
    "\n",
    "Question 19- Write a Python program to convert a date of yyyy-mm-dd format to dd-mm-yyyy format.\n"
   ]
  },
  {
   "cell_type": "code",
   "execution_count": 133,
   "id": "a7538012",
   "metadata": {},
   "outputs": [
    {
     "name": "stdout",
     "output_type": "stream",
     "text": [
      "This is the date format in YY-MM-DD: 1991-04-18\n",
      "This is the new format DD-MM-YYYY: 18-04-1991\n"
     ]
    }
   ],
   "source": [
    "def Date_Format_One(dt):\n",
    "    return re.sub(r'(\\d{4})-(\\d{1,2})-(\\d{1,2})', '\\\\3-\\\\2-\\\\1',dt)\n",
    "\n",
    "dt1='1991-04-18'\n",
    "\n",
    "print('This is the date format in YY-MM-DD:' ,dt1)\n",
    "print('This is the new format DD-MM-YYYY:', Date_Format_One(dt1))"
   ]
  },
  {
   "cell_type": "markdown",
   "id": "89116086",
   "metadata": {},
   "source": [
    "---------------------------------------------------------------------------------------------------------------------"
   ]
  },
  {
   "cell_type": "markdown",
   "id": "d7bae114",
   "metadata": {},
   "source": [
    "Question 20- Create a function in python to find all decimal numbers with a precision of 1 or 2 in a string. The use of the re.compile() method is mandatory."
   ]
  },
  {
   "cell_type": "code",
   "execution_count": 134,
   "id": "eb948e51",
   "metadata": {},
   "outputs": [
    {
     "name": "stdout",
     "output_type": "stream",
     "text": [
      "['145.8', '3.01', '27.25', '0.25']\n"
     ]
    }
   ],
   "source": [
    "def decimal_number(text):\n",
    "    pattern= re.compile (r'\\b\\d+\\.\\d{1,2}\\b')\n",
    "    return pattern.findall(text)\n",
    "\n",
    "sample= '0.112 0123.123 2.31875 145.8 3.01 27.25 0.25'\n",
    "\n",
    "find_decimals= decimal_number(sample)\n",
    "\n",
    "print(find_decimals)"
   ]
  },
  {
   "cell_type": "markdown",
   "id": "cba7d0bf",
   "metadata": {},
   "source": [
    "---------------------------------------------------------------------------------------------------------------------"
   ]
  },
  {
   "cell_type": "markdown",
   "id": "73a5e066",
   "metadata": {},
   "source": [
    "Question 21- Write a Python program to separate and print the numbers and their position of a given string."
   ]
  },
  {
   "cell_type": "code",
   "execution_count": 135,
   "id": "0a1a5771",
   "metadata": {},
   "outputs": [
    {
     "name": "stdout",
     "output_type": "stream",
     "text": [
      "Number: 7, position:7\n",
      "Number: 4, position:15\n",
      "Number: 5, position:23\n",
      "Number: 1, position:32\n",
      "Number: 2, position:41\n",
      "Number: 6, position:52\n",
      "Number: 3, position:63\n",
      "None\n"
     ]
    }
   ],
   "source": [
    "def Numbers_and_positions(text):\n",
    "    for i in range (len(text)):\n",
    "        if text[i].isdigit():\n",
    "            print(f'Number: {text[i]}, position:{i}')\n",
    "\n",
    "\n",
    "string='I have 7 cats, 4 dogs, 5 birds, 1 snake, 2 hamster, 6 fish and 3 monkeys.'\n",
    "print(Numbers_and_positions(string))\n"
   ]
  },
  {
   "cell_type": "markdown",
   "id": "0b8a7168",
   "metadata": {},
   "source": [
    "---------------------------------------------------------------------------------------------------------------------"
   ]
  },
  {
   "cell_type": "markdown",
   "id": "311b2b95",
   "metadata": {},
   "source": [
    "Question 22- Write a regular expression in python program to extract maximum/largest numeric value from a string."
   ]
  },
  {
   "cell_type": "code",
   "execution_count": 136,
   "id": "d0e57e67",
   "metadata": {},
   "outputs": [
    {
     "name": "stdout",
     "output_type": "stream",
     "text": [
      "Max_value: 236547\n"
     ]
    }
   ],
   "source": [
    "string= ' 43 21 567 345 236547 89 085 1234 546 67 2 8 77 6 '\n",
    "\n",
    "number=re.findall ('\\d+', string)\n",
    "number=map(int,number)\n",
    "print('Max_value:', max(number))"
   ]
  },
  {
   "cell_type": "markdown",
   "id": "69799dea",
   "metadata": {},
   "source": [
    "---------------------------------------------------------------------------------------------------------------------"
   ]
  },
  {
   "cell_type": "markdown",
   "id": "aad48dff",
   "metadata": {},
   "source": [
    "Question 23- Create a function in python to insert spaces between words starting with capital letters."
   ]
  },
  {
   "cell_type": "code",
   "execution_count": 137,
   "id": "cd736e63",
   "metadata": {
    "scrolled": true
   },
   "outputs": [
    {
     "name": "stdout",
     "output_type": "stream",
     "text": [
      "Mynameis Eithar Elfatih Burie Abdelrahman.\n"
     ]
    }
   ],
   "source": [
    "string='MynameisEitharElfatihBurieAbdelrahman.'\n",
    "\n",
    "x=re.sub(r'\\B([A-Z])', r' \\1', string)\n",
    "print(x)\n"
   ]
  },
  {
   "cell_type": "markdown",
   "id": "dcbf35d8",
   "metadata": {},
   "source": [
    "---------------------------------------------------------------------------------------------------------------------"
   ]
  },
  {
   "cell_type": "markdown",
   "id": "156cfcd7",
   "metadata": {},
   "source": [
    "Question 24- Python regex to find sequences of one upper case letter followed by lower case letters"
   ]
  },
  {
   "cell_type": "code",
   "execution_count": 138,
   "id": "17be2af8",
   "metadata": {},
   "outputs": [
    {
     "name": "stdout",
     "output_type": "stream",
     "text": [
      "['If', 'Morroco', 'Guatamala', 'The', 'Philipines']\n"
     ]
    }
   ],
   "source": [
    "msgs= ['If it was affordable to travel often, I would go to Morroco, Guatamala and The Philipines.']\n",
    "\n",
    "for msg in msgs:\n",
    "    search=re.findall(r'[A-Z][a-z]+', msg)\n",
    "    print(search)"
   ]
  },
  {
   "cell_type": "markdown",
   "id": "ff6b3ba1",
   "metadata": {},
   "source": [
    "Question 25- Write a Python program to remove continuous duplicate words from Sentence using Regular Expression."
   ]
  },
  {
   "cell_type": "code",
   "execution_count": 139,
   "id": "4c1cb07b",
   "metadata": {},
   "outputs": [
    {
     "name": "stdout",
     "output_type": "stream",
     "text": [
      " I think that you are very tall.\n"
     ]
    }
   ],
   "source": [
    "def remove_duplicate(string):\n",
    "    pattern= r'\\b(\\w+)(?:\\W\\1\\b)+'\n",
    "    text=re.sub(pattern, r'\\1', string)\n",
    "    return text\n",
    "\n",
    "\n",
    "string= ' I think think that you are very very tall.'\n",
    "print(remove_duplicate(string))\n"
   ]
  },
  {
   "cell_type": "markdown",
   "id": "67727221",
   "metadata": {},
   "source": [
    "---------------------------------------------------------------------------------------------------------------------"
   ]
  },
  {
   "cell_type": "markdown",
   "id": "bf56c6d8",
   "metadata": {},
   "source": [
    "Question 26-  Write a python program using RegEx to accept string ending with alphanumeric character."
   ]
  },
  {
   "cell_type": "code",
   "execution_count": 140,
   "id": "65dcd1c7",
   "metadata": {},
   "outputs": [
    {
     "name": "stdout",
     "output_type": "stream",
     "text": [
      "True\n"
     ]
    }
   ],
   "source": [
    "def alphanumeric_end_char(string):\n",
    "    pattern=r'\\w' \n",
    "    match=re.search(pattern,string)\n",
    "    return bool(match)\n",
    "\n",
    "\n",
    "strings='This sentence means nothing but it is alphanumeric_'\n",
    "\n",
    "print(alphanumeric_end_char(string))"
   ]
  },
  {
   "cell_type": "markdown",
   "id": "1f2482e5",
   "metadata": {},
   "source": [
    "Question 27-Write a python program using RegEx to extract the hashtags.\n"
   ]
  },
  {
   "cell_type": "code",
   "execution_count": 141,
   "id": "5a8c17cf",
   "metadata": {},
   "outputs": [
    {
     "name": "stdout",
     "output_type": "stream",
     "text": [
      "extracted hashtags: ['#string', '#hashtags', '#cat', '#dog', '#bird']\n"
     ]
    }
   ],
   "source": [
    "#Define function\n",
    "def extract_hashtag(string):\n",
    "    #define hashtag pattern (starts with #)\n",
    "    pattern= r'\\#\\w+'\n",
    "    #use findall to extract hashtags\n",
    "    hashtags=re.findall(pattern,string)\n",
    "    return hashtags\n",
    "#sentence to extract from \n",
    "string= \"This is an example #string that has some #hashtags for no reason #cat #dog #bird.\"\n",
    "hashtags_only=(extract_hashtag(string))\n",
    "print('extracted hashtags:',hashtags_only)"
   ]
  },
  {
   "cell_type": "markdown",
   "id": "8f51bab4",
   "metadata": {},
   "source": [
    "---------------------------------------------------------------------------------------------------------------------"
   ]
  },
  {
   "cell_type": "markdown",
   "id": "e2d82da6",
   "metadata": {},
   "source": [
    "Question 28- Write a python program using RegEx to remove <U+..> like symbols"
   ]
  },
  {
   "cell_type": "code",
   "execution_count": 142,
   "id": "a6e607e0",
   "metadata": {
    "scrolled": true
   },
   "outputs": [
    {
     "name": "stdout",
     "output_type": "stream",
     "text": [
      "@Jags123456 Bharat band on 28??<ed><ed>Those who  are protesting #demonetization  are all different party leaders\n"
     ]
    }
   ],
   "source": [
    "def remove_U_symbol(text):\n",
    "#define pattern\n",
    "    pattern= r'<U\\+[0-9A-Fa-f]+>'\n",
    "#use re.sub(pattern,replacement,string,flags(none)) \n",
    "    return re.sub(pattern,'',text)\n",
    "   \n",
    "\n",
    "#sentence to change\n",
    "text_with='@Jags123456 Bharat band on 28??<ed><U+00A0><U+00BD><ed><U+00B8><U+0082>Those who  are protesting #demonetization  are all different party leaders'\n",
    "text_replace=remove_U_symbol(text_with)\n",
    "print(text_replace)\n"
   ]
  },
  {
   "cell_type": "markdown",
   "id": "be18f60d",
   "metadata": {},
   "source": [
    "---------------------------------------------------------------------------------------------------------------------"
   ]
  },
  {
   "cell_type": "markdown",
   "id": "c73ecaa0",
   "metadata": {},
   "source": [
    "Question 29- Write a python program to extract dates from the text stored in the text file."
   ]
  },
  {
   "cell_type": "code",
   "execution_count": 143,
   "id": "a5020097",
   "metadata": {},
   "outputs": [],
   "source": [
    "#creat file\n",
    "f1=open('C:\\\\Users\\\\eitha\\\\OneDrive\\\\Documents\\\\fliprobo\\\\Question_29.txt','w')\n",
    "\n",
    "f1.write('I was born on 18-04-1991 and and my sister was born 21-05-1992.')\n",
    "\n",
    "f1.close()\n",
    "\n"
   ]
  },
  {
   "cell_type": "code",
   "execution_count": 144,
   "id": "e116157d",
   "metadata": {},
   "outputs": [
    {
     "name": "stdout",
     "output_type": "stream",
     "text": [
      "['18-04-1991', '21-05-1992']\n"
     ]
    }
   ],
   "source": [
    "def extract_dates_file(file_path):\n",
    "    #Open file in read mode\n",
    "    with open(file_path,'r') as file:\n",
    "        #read file content\n",
    "        text=file.read()\n",
    "        #Define pattern to match date\n",
    "        pattern=r'\\b\\d{2}-\\d{2}-\\d{4}\\b'\n",
    "        #use findall to match pattern of all dates\n",
    "        dates=re.findall(pattern,text)\n",
    "        return dates\n",
    "    \n",
    "#show path of file   \n",
    "file_path='C:\\\\Users\\\\eitha\\\\OneDrive\\\\Documents\\\\fliprobo\\\\Question_29.txt'\n",
    "#call function to extract dates\n",
    "extract_dates=(extract_dates_file(file_path))\n",
    "print(extract_dates)\n",
    "    "
   ]
  },
  {
   "cell_type": "markdown",
   "id": "6e0a9c53",
   "metadata": {},
   "source": [
    "---------------------------------------------------------------------------------------------------------------------"
   ]
  },
  {
   "cell_type": "markdown",
   "id": "800072dd",
   "metadata": {},
   "source": [
    "Question 30- Create a function in python to remove all words from a string of length between 2 and 4."
   ]
  },
  {
   "cell_type": "code",
   "execution_count": 145,
   "id": "dbf3d54b",
   "metadata": {},
   "outputs": [
    {
     "name": "stdout",
     "output_type": "stream",
     "text": [
      " following example creates  ArrayList  a capacity   elements. 4 elements   added   ArrayList   ArrayList  trimmed accordingly.\n"
     ]
    }
   ],
   "source": [
    "#define function\n",
    "def remove_words(string):\n",
    "#Use compile regex pattern to match words between 2 and 4 characters in length\n",
    "    pattern= re.compile(r'\\b\\w{2,4}\\b')\n",
    "    result= pattern.sub( '',string)\n",
    "    return result\n",
    "# show string\n",
    "string=(\"The following example creates an ArrayList with a capacity of 50 elements. 4 elements are then added to the ArrayList and the ArrayList is trimmed accordingly.\")\n",
    "# call function \n",
    "without_words=remove_words(string)\n",
    "print(without_words)\n"
   ]
  },
  {
   "cell_type": "markdown",
   "id": "47465e07",
   "metadata": {},
   "source": [
    "---------------------------------------------------------------------------------------------------------------------"
   ]
  },
  {
   "cell_type": "markdown",
   "id": "dfaf8b97",
   "metadata": {},
   "source": [
    "END OF ASSIGNMENT 3"
   ]
  },
  {
   "cell_type": "code",
   "execution_count": null,
   "id": "e6cd790f",
   "metadata": {},
   "outputs": [],
   "source": []
  }
 ],
 "metadata": {
  "kernelspec": {
   "display_name": "Python 3 (ipykernel)",
   "language": "python",
   "name": "python3"
  },
  "language_info": {
   "codemirror_mode": {
    "name": "ipython",
    "version": 3
   },
   "file_extension": ".py",
   "mimetype": "text/x-python",
   "name": "python",
   "nbconvert_exporter": "python",
   "pygments_lexer": "ipython3",
   "version": "3.11.4"
  }
 },
 "nbformat": 4,
 "nbformat_minor": 5
}
