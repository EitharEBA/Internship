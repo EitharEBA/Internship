{
 "cells": [
  {
   "cell_type": "markdown",
   "id": "06a4ae83",
   "metadata": {},
   "source": [
    "WEB SCRAPING - ASSIGNMENT 2"
   ]
  },
  {
   "cell_type": "markdown",
   "id": "06ee0357",
   "metadata": {},
   "source": [
    "Eithar Elfatih Burie Abelrahman Batch DS 2403"
   ]
  },
  {
   "cell_type": "code",
   "execution_count": 2,
   "id": "0ca522d4",
   "metadata": {},
   "outputs": [],
   "source": [
    "import selenium \n",
    "import pandas as pd\n",
    "from selenium import webdriver\n",
    "import warnings\n",
    "warnings.filterwarnings('ignore')\n",
    "from selenium.webdriver.common.by import By\n",
    "import time \n",
    "\n"
   ]
  },
  {
   "cell_type": "markdown",
   "id": "fc252450",
   "metadata": {},
   "source": [
    "________________________________"
   ]
  },
  {
   "cell_type": "markdown",
   "id": "578bcfc7",
   "metadata": {},
   "source": [
    "Q1: In this question you have to scrape data using the filters available on the webpage You have to use the location and salary filter.  "
   ]
  },
  {
   "cell_type": "markdown",
   "id": "2eb393bc",
   "metadata": {},
   "source": [
    "i was unable to access this website. i have written the steps i would have followed."
   ]
  },
  {
   "cell_type": "code",
   "execution_count": 723,
   "id": "2a9b6f1f",
   "metadata": {},
   "outputs": [],
   "source": [
    "#initiate automated Chrome \n",
    "driver=webdriver.Chrome()"
   ]
  },
  {
   "cell_type": "code",
   "execution_count": 724,
   "id": "2a8c3e7a",
   "metadata": {},
   "outputs": [],
   "source": [
    "#open naukri website\n",
    "driver.get('https://www.naukri.com/')"
   ]
  },
  {
   "cell_type": "code",
   "execution_count": 725,
   "id": "2be093ee",
   "metadata": {},
   "outputs": [],
   "source": [
    "#enter 'Data Scientist' in correct designation\n",
    "designation_1=driver.find_element(By.CLASS_NAME, 'suggestor-input')\n",
    "designation_1.send_keys('Data Scientist')"
   ]
  },
  {
   "cell_type": "code",
   "execution_count": 726,
   "id": "e943868d",
   "metadata": {},
   "outputs": [],
   "source": [
    "# click search button\n",
    "search_1=driver.find_element(By.CLASS_NAME, 'qsbSubmit')\n",
    "search_1.click()"
   ]
  },
  {
   "cell_type": "code",
   "execution_count": null,
   "id": "87c592c9",
   "metadata": {},
   "outputs": [],
   "source": [
    "# check 3-6lakhs salry filter\n",
    "salary_checkbox1=driver.find_element(By.CLASS_NAME, '')\n",
    "salary_checkbox1.click()"
   ]
  },
  {
   "cell_type": "code",
   "execution_count": null,
   "id": "d6888e69",
   "metadata": {},
   "outputs": [],
   "source": [
    "# check Delhi/NDR location filter\n",
    "location_checkbox1=driver.find_element(By.CLASS_NAME, '')\n",
    "location_checkbox1.click()"
   ]
  },
  {
   "cell_type": "code",
   "execution_count": 718,
   "id": "ee2b772e",
   "metadata": {},
   "outputs": [],
   "source": [
    "#create list object for each \n",
    "job_title_1=[]\n",
    "job_location_1=[]\n",
    "company_name_1=[]\n",
    "experience_required_1=[]\n",
    "\n"
   ]
  },
  {
   "cell_type": "code",
   "execution_count": null,
   "id": "a3a99985",
   "metadata": {},
   "outputs": [],
   "source": [
    "#scrap require job details\n",
    "title_tags=driver.find_elements(By.XPATH, \"//a[@class='title ']\")\n",
    "for title in title_tags:\n",
    "    title=title.text\n",
    "    job_title_1.append(title)\n",
    "    \n",
    "\n",
    "location_tag=driver.find_elements(By.XPATH, \"//span[@class='locWdth']\")\n",
    "for location in location_tag:\n",
    "    location=location.text\n",
    "    job_location_1.append(location)    \n",
    "\n",
    "    \n",
    "company_tag=driver.find_elements(By.XPATH, \"//div[@class='jobCard_jobCard_cName__mYnow']\")\n",
    "for company in company_tag:\n",
    "    company=company.text\n",
    "    company_name_1.append(company)\n",
    "    \n",
    "    \n",
    "experience_tag=driver.find_elements(By.XPATH, \"//span[@class='expwdth']\")\n",
    "for experience in experience_tag:\n",
    "    experience=experience.text\n",
    "    experience_required_1.append(experience)\n",
    "    \n",
    "   "
   ]
  },
  {
   "cell_type": "code",
   "execution_count": null,
   "id": "819646f5",
   "metadata": {},
   "outputs": [],
   "source": [
    "#check length of all details are equal for Dataframe to be created \n",
    "print(len(job_title_1),len(job_location_1), len(company_name_1), len(experience_required_1)"
   ]
  },
  {
   "cell_type": "code",
   "execution_count": null,
   "id": "cf38b5f5",
   "metadata": {},
   "outputs": [],
   "source": [
    "#create Dataframe and correct index \n",
    "df_1=pd.DataFrame({'Job Title':job_title_1, 'Location': job_location_1, 'Company' :company_name_1, 'Experience Required' : experience_required_1}) [:10]\n",
    "df_1.index=df_1.index + 1 \n",
    "df_1"
   ]
  },
  {
   "cell_type": "markdown",
   "id": "e958559e",
   "metadata": {},
   "source": [
    "____________________"
   ]
  },
  {
   "cell_type": "markdown",
   "id": "dff50551",
   "metadata": {},
   "source": [
    "Q2: Write a python program to scrape data for “Data Scientist” Job position in “Bangalore” location. You have to scrape the job-title, job-location, company_name, experience_required. You have to scrape first 10 jobs data. \n",
    " This task will be done in following steps: \n",
    " 1. First get the webpage https://www.shine.com/ \n",
    " 2. Enter “Data Analyst” in “Job title, Skills” field and enter “Bangalore” in “enter the location” field. \n",
    " 3. Then click the searchbutton.  \n",
    " 4. Then scrape the data for the first 10 jobs results you get.  \n",
    " 5. Finally create a dataframe of the scraped data.  "
   ]
  },
  {
   "cell_type": "code",
   "execution_count": 331,
   "id": "f12bb793",
   "metadata": {},
   "outputs": [],
   "source": [
    "#initiate automated driver\n",
    "driver=webdriver.Chrome()"
   ]
  },
  {
   "cell_type": "code",
   "execution_count": 332,
   "id": "ce3481b8",
   "metadata": {},
   "outputs": [],
   "source": [
    "#open shine website\n",
    "driver.get('https://www.shine.com/')"
   ]
  },
  {
   "cell_type": "code",
   "execution_count": 335,
   "id": "017a3f57",
   "metadata": {},
   "outputs": [],
   "source": [
    "# insert 'Data Analyst' in correct designation \n",
    "designation=driver.find_element(By.ID, 'id_q')\n",
    "designation.send_keys('Data Analyst')"
   ]
  },
  {
   "cell_type": "code",
   "execution_count": 338,
   "id": "1f101873",
   "metadata": {},
   "outputs": [],
   "source": [
    "#click search button \n",
    "search=driver.find_element(By.CLASS_NAME, 'searchForm_btnWrap_advance__VYBHN')\n",
    "search.click()"
   ]
  },
  {
   "cell_type": "code",
   "execution_count": 351,
   "id": "a8cb7565",
   "metadata": {},
   "outputs": [],
   "source": [
    "#create list object for each detail\n",
    "job_title=[]\n",
    "company_name=[]\n",
    "experience_required=[]\n",
    "job_location=[]\n"
   ]
  },
  {
   "cell_type": "code",
   "execution_count": 352,
   "id": "3b89a49f",
   "metadata": {},
   "outputs": [],
   "source": [
    "# scrap job title, company name, experience required and location of job\n",
    "title_tags=driver.find_elements(By.XPATH, \"//strong[@class='jobCard_pReplaceH2__xWmHg']\")\n",
    "for title in title_tags:\n",
    "    title=title.text\n",
    "    job_title.append(title)\n",
    "    \n",
    "    \n",
    "company_tag=driver.find_elements(By.XPATH, \"//div[@class='jobCard_jobCard_cName__mYnow']\")\n",
    "for company in company_tag:\n",
    "    company=company.text\n",
    "    company_name.append(company)\n",
    "    \n",
    "    \n",
    "experience_tag=driver.find_elements(By.XPATH, \"//div[@class=' jobCard_jobCard_lists_item__YxRkV jobCard_jobIcon__3FB1t']\")\n",
    "for experience in experience_tag:\n",
    "    experience=experience.text\n",
    "    experience_required.append(experience)\n",
    "    \n",
    "\n",
    "location_tag=driver.find_elements(By.XPATH, \"//div[@class=' jobCard_jobCard_lists_item__YxRkV jobCard_locationIcon__zrWt2']\")\n",
    "for location in location_tag:\n",
    "    location=location.text\n",
    "    job_location.append(location)\n",
    "    "
   ]
  },
  {
   "cell_type": "code",
   "execution_count": 353,
   "id": "0339c22f",
   "metadata": {},
   "outputs": [
    {
     "name": "stdout",
     "output_type": "stream",
     "text": [
      "20 20 20 20\n"
     ]
    }
   ],
   "source": [
    "#print length to confirm dataframe can be made \n",
    "print(len(job_title), len(company_name), len(experience_required), len(job_location))"
   ]
  },
  {
   "cell_type": "code",
   "execution_count": 354,
   "id": "af2b5c33",
   "metadata": {},
   "outputs": [
    {
     "data": {
      "text/html": [
       "<div>\n",
       "<style scoped>\n",
       "    .dataframe tbody tr th:only-of-type {\n",
       "        vertical-align: middle;\n",
       "    }\n",
       "\n",
       "    .dataframe tbody tr th {\n",
       "        vertical-align: top;\n",
       "    }\n",
       "\n",
       "    .dataframe thead th {\n",
       "        text-align: right;\n",
       "    }\n",
       "</style>\n",
       "<table border=\"1\" class=\"dataframe\">\n",
       "  <thead>\n",
       "    <tr style=\"text-align: right;\">\n",
       "      <th></th>\n",
       "      <th>Job Title</th>\n",
       "      <th>Company</th>\n",
       "      <th>Experience</th>\n",
       "      <th>Location</th>\n",
       "    </tr>\n",
       "  </thead>\n",
       "  <tbody>\n",
       "    <tr>\n",
       "      <th>1</th>\n",
       "      <td>Data Analyst (New Delhi)</td>\n",
       "      <td>valocity</td>\n",
       "      <td>3 to 7 Yrs</td>\n",
       "      <td>All India</td>\n",
       "    </tr>\n",
       "    <tr>\n",
       "      <th>2</th>\n",
       "      <td>Data Analyst</td>\n",
       "      <td>novartis</td>\n",
       "      <td>2 to 6 Yrs</td>\n",
       "      <td>Hyderabad\\n+1</td>\n",
       "    </tr>\n",
       "    <tr>\n",
       "      <th>3</th>\n",
       "      <td>Data Analyst</td>\n",
       "      <td>ajax media tech</td>\n",
       "      <td>2 to 6 Yrs</td>\n",
       "      <td>Chennai\\n+1</td>\n",
       "    </tr>\n",
       "    <tr>\n",
       "      <th>4</th>\n",
       "      <td>Data Analyst</td>\n",
       "      <td>techmash software solutions pvt ltd</td>\n",
       "      <td>4 to 8 Yrs</td>\n",
       "      <td>All India</td>\n",
       "    </tr>\n",
       "    <tr>\n",
       "      <th>5</th>\n",
       "      <td>Data Analyst</td>\n",
       "      <td>toolyt</td>\n",
       "      <td>2 to 6 Yrs</td>\n",
       "      <td>Jaipur\\n+1</td>\n",
       "    </tr>\n",
       "    <tr>\n",
       "      <th>6</th>\n",
       "      <td>Data Analyst</td>\n",
       "      <td>regency group</td>\n",
       "      <td>2 to 6 Yrs</td>\n",
       "      <td>Kozhikode\\n+1</td>\n",
       "    </tr>\n",
       "    <tr>\n",
       "      <th>7</th>\n",
       "      <td>Business Data Analyst (Sr Exe / Asst Manager)</td>\n",
       "      <td>talent leads hr solutions</td>\n",
       "      <td>3 to 7 Yrs</td>\n",
       "      <td>Other Karnataka</td>\n",
       "    </tr>\n",
       "    <tr>\n",
       "      <th>8</th>\n",
       "      <td>Data Analyst Intern</td>\n",
       "      <td>universal printers</td>\n",
       "      <td>0 to 4 Yrs</td>\n",
       "      <td>Other Maharashtra\\n+1</td>\n",
       "    </tr>\n",
       "    <tr>\n",
       "      <th>9</th>\n",
       "      <td>Data Analyst</td>\n",
       "      <td>bunge</td>\n",
       "      <td>6 to 10 Yrs</td>\n",
       "      <td>Other Punjab</td>\n",
       "    </tr>\n",
       "    <tr>\n",
       "      <th>10</th>\n",
       "      <td>Senior Data Analyst</td>\n",
       "      <td>donorbox</td>\n",
       "      <td>4 to 8 Yrs</td>\n",
       "      <td>All India</td>\n",
       "    </tr>\n",
       "  </tbody>\n",
       "</table>\n",
       "</div>"
      ],
      "text/plain": [
       "                                        Job Title  \\\n",
       "1                        Data Analyst (New Delhi)   \n",
       "2                                    Data Analyst   \n",
       "3                                    Data Analyst   \n",
       "4                                    Data Analyst   \n",
       "5                                    Data Analyst   \n",
       "6                                    Data Analyst   \n",
       "7   Business Data Analyst (Sr Exe / Asst Manager)   \n",
       "8                             Data Analyst Intern   \n",
       "9                                    Data Analyst   \n",
       "10                            Senior Data Analyst   \n",
       "\n",
       "                                Company   Experience               Location  \n",
       "1                              valocity   3 to 7 Yrs              All India  \n",
       "2                              novartis   2 to 6 Yrs          Hyderabad\\n+1  \n",
       "3                       ajax media tech   2 to 6 Yrs            Chennai\\n+1  \n",
       "4   techmash software solutions pvt ltd   4 to 8 Yrs              All India  \n",
       "5                                toolyt   2 to 6 Yrs             Jaipur\\n+1  \n",
       "6                         regency group   2 to 6 Yrs          Kozhikode\\n+1  \n",
       "7             talent leads hr solutions   3 to 7 Yrs        Other Karnataka  \n",
       "8                    universal printers   0 to 4 Yrs  Other Maharashtra\\n+1  \n",
       "9                                 bunge  6 to 10 Yrs           Other Punjab  \n",
       "10                             donorbox   4 to 8 Yrs              All India  "
      ]
     },
     "execution_count": 354,
     "metadata": {},
     "output_type": "execute_result"
    }
   ],
   "source": [
    "#create dataframe and correct index\n",
    "df_2=pd.DataFrame({'Job Title': job_title, 'Company': company_name, 'Experience': experience_required, 'Location': job_location})[:10]\n",
    "df_2.index=df_2.index + 1\n",
    "df_2"
   ]
  },
  {
   "cell_type": "markdown",
   "id": "d7b5e5d0",
   "metadata": {},
   "source": [
    "__________________________________________"
   ]
  },
  {
   "cell_type": "markdown",
   "id": "4e6fdaef",
   "metadata": {},
   "source": [
    "Q3: Scrape 100 reviews data from flipkart.com for iphone11 phone. You have to go the link: https://www.flipkart.com/apple-iphone-11-black-64-gb/product-reviews/itm4e5041ba101fd?pid=MOBFWQ6BXGJCEYNY&lid=LSTMOBFWQ6BXGJCEYNYZXSHRJ&marketplace=FLIPKART "
   ]
  },
  {
   "cell_type": "code",
   "execution_count": 642,
   "id": "42f3b831",
   "metadata": {},
   "outputs": [],
   "source": [
    "#initiate webdriver\n",
    "driver=webdriver.Chrome()"
   ]
  },
  {
   "cell_type": "code",
   "execution_count": 643,
   "id": "cd996633",
   "metadata": {},
   "outputs": [],
   "source": [
    "# open flipkart in automated chrome\n",
    "driver.get('https://www.flipkart.com/apple-iphone-11-black-64-gb/product-reviews/itm4e5041ba101fd?pid=MOBFWQ6BXGJCEYNY&lid=LSTMOBFWQ6BXGJCEYNYZXSHRJ&marketplace=FLIPKART')"
   ]
  },
  {
   "cell_type": "code",
   "execution_count": 645,
   "id": "a80a1e8b",
   "metadata": {},
   "outputs": [],
   "source": [
    "#create lists for each object \n",
    "product_rating=[]\n",
    "review_summary=[]\n",
    "full_review=[]\n",
    "\n"
   ]
  },
  {
   "cell_type": "code",
   "execution_count": 646,
   "id": "e44bf0f9",
   "metadata": {},
   "outputs": [
    {
     "name": "stdout",
     "output_type": "stream",
     "text": [
      "100 100 100\n"
     ]
    }
   ],
   "source": [
    "#iterate through pages 1 to 10\n",
    "for page in range (1,11,1):\n",
    "    #load page and page number accordingly  \n",
    "    driver.get(f'https://www.flipkart.com/apple-iphone-11-black-64-gb/product-reviews/itm4e5041ba101fd?pid=MOBFWQ6BXGJCEYNY&lid=LSTMOBFWQ6BXGJCEYNYZXSHRJ&marketplace=FLIPKART{page}')\n",
    "\n",
    "#find rating, summary and review\n",
    "    rating_tags=driver.find_elements(By.XPATH, \"//div[@class='XQDdHH Ga3i8K']\")\n",
    "    summary_tags=driver.find_elements(By.XPATH, \"//p[@class='z9E0IG']\")\n",
    "    review_tags=driver.find_elements(By.XPATH, \"//div[@class='ZmyHeo']\")\n",
    "    \n",
    "#iterate throught range of pages by length of rating_tags    \n",
    "    for i in range(len(rating_tags)):\n",
    "#append text for each detail        \n",
    "        product_rating.append(rating_tags[i].text)\n",
    "        review_summary.append(summary_tags[i].text)\n",
    "        full_review.append(review_tags[i].text)\n",
    "#print length to confirm all the same length in order to create dataframe \n",
    "print(len(product_rating), len(review_summary), len(full_review))\n"
   ]
  },
  {
   "cell_type": "code",
   "execution_count": 647,
   "id": "9f6d84aa",
   "metadata": {},
   "outputs": [
    {
     "data": {
      "text/html": [
       "<div>\n",
       "<style scoped>\n",
       "    .dataframe tbody tr th:only-of-type {\n",
       "        vertical-align: middle;\n",
       "    }\n",
       "\n",
       "    .dataframe tbody tr th {\n",
       "        vertical-align: top;\n",
       "    }\n",
       "\n",
       "    .dataframe thead th {\n",
       "        text-align: right;\n",
       "    }\n",
       "</style>\n",
       "<table border=\"1\" class=\"dataframe\">\n",
       "  <thead>\n",
       "    <tr style=\"text-align: right;\">\n",
       "      <th></th>\n",
       "      <th>Rating</th>\n",
       "      <th>Summary</th>\n",
       "      <th>Full Review</th>\n",
       "    </tr>\n",
       "  </thead>\n",
       "  <tbody>\n",
       "    <tr>\n",
       "      <th>1</th>\n",
       "      <td>5</td>\n",
       "      <td>Classy product</td>\n",
       "      <td>Camera is awesome\\nBest battery backup\\nA perf...</td>\n",
       "    </tr>\n",
       "    <tr>\n",
       "      <th>2</th>\n",
       "      <td>5</td>\n",
       "      <td>Terrific</td>\n",
       "      <td>Very very good</td>\n",
       "    </tr>\n",
       "    <tr>\n",
       "      <th>3</th>\n",
       "      <td>5</td>\n",
       "      <td>Wonderful</td>\n",
       "      <td>This is amazing at all</td>\n",
       "    </tr>\n",
       "    <tr>\n",
       "      <th>4</th>\n",
       "      <td>5</td>\n",
       "      <td>Worth every penny</td>\n",
       "      <td>Feeling awesome after getting the delivery of ...</td>\n",
       "    </tr>\n",
       "    <tr>\n",
       "      <th>5</th>\n",
       "      <td>5</td>\n",
       "      <td>Best in the market!</td>\n",
       "      <td>Good Camera</td>\n",
       "    </tr>\n",
       "    <tr>\n",
       "      <th>...</th>\n",
       "      <td>...</td>\n",
       "      <td>...</td>\n",
       "      <td>...</td>\n",
       "    </tr>\n",
       "    <tr>\n",
       "      <th>96</th>\n",
       "      <td>5</td>\n",
       "      <td>Terrific purchase</td>\n",
       "      <td>Value for money 😍</td>\n",
       "    </tr>\n",
       "    <tr>\n",
       "      <th>97</th>\n",
       "      <td>5</td>\n",
       "      <td>Perfect product!</td>\n",
       "      <td>Photos super</td>\n",
       "    </tr>\n",
       "    <tr>\n",
       "      <th>98</th>\n",
       "      <td>5</td>\n",
       "      <td>Perfect product!</td>\n",
       "      <td>V Good all</td>\n",
       "    </tr>\n",
       "    <tr>\n",
       "      <th>99</th>\n",
       "      <td>5</td>\n",
       "      <td>Just wow!</td>\n",
       "      <td>Perfect Product!!</td>\n",
       "    </tr>\n",
       "    <tr>\n",
       "      <th>100</th>\n",
       "      <td>5</td>\n",
       "      <td>Excellent</td>\n",
       "      <td>NYC</td>\n",
       "    </tr>\n",
       "  </tbody>\n",
       "</table>\n",
       "<p>100 rows × 3 columns</p>\n",
       "</div>"
      ],
      "text/plain": [
       "    Rating              Summary  \\\n",
       "1        5       Classy product   \n",
       "2        5             Terrific   \n",
       "3        5            Wonderful   \n",
       "4        5    Worth every penny   \n",
       "5        5  Best in the market!   \n",
       "..     ...                  ...   \n",
       "96       5    Terrific purchase   \n",
       "97       5     Perfect product!   \n",
       "98       5     Perfect product!   \n",
       "99       5            Just wow!   \n",
       "100      5            Excellent   \n",
       "\n",
       "                                           Full Review  \n",
       "1    Camera is awesome\\nBest battery backup\\nA perf...  \n",
       "2                                       Very very good  \n",
       "3                               This is amazing at all  \n",
       "4    Feeling awesome after getting the delivery of ...  \n",
       "5                                          Good Camera  \n",
       "..                                                 ...  \n",
       "96                                   Value for money 😍  \n",
       "97                                        Photos super  \n",
       "98                                          V Good all  \n",
       "99                                   Perfect Product!!  \n",
       "100                                                NYC  \n",
       "\n",
       "[100 rows x 3 columns]"
      ]
     },
     "execution_count": 647,
     "metadata": {},
     "output_type": "execute_result"
    }
   ],
   "source": [
    "# create dataframe and correct index accordingly\n",
    "df_3=pd.DataFrame({'Rating': product_rating, 'Summary': review_summary, 'Full Review': full_review})\n",
    "df_3.index=df_3.index + 1\n",
    "df_3"
   ]
  },
  {
   "cell_type": "markdown",
   "id": "48fce2ff",
   "metadata": {},
   "source": [
    "Q4: Scrape data for first 100 sneakers you find when you visit flipkart.com and search for “sneakers” in the search field. "
   ]
  },
  {
   "cell_type": "code",
   "execution_count": 604,
   "id": "5098c02a",
   "metadata": {},
   "outputs": [],
   "source": [
    "#initate automated chrome\n",
    "driver=webdriver.Chrome()"
   ]
  },
  {
   "cell_type": "code",
   "execution_count": 605,
   "id": "516be7ec",
   "metadata": {},
   "outputs": [],
   "source": [
    "#open flipkart webpage\n",
    "driver.get('https://www.flipkart.com')"
   ]
  },
  {
   "cell_type": "code",
   "execution_count": 606,
   "id": "ba0ccc57",
   "metadata": {},
   "outputs": [],
   "source": [
    "#enter 'sneakers' in designation\n",
    "designation_4=driver.find_element(By.CLASS_NAME, 'Pke_EE')\n",
    "designation_4.send_keys('sneakers')"
   ]
  },
  {
   "cell_type": "code",
   "execution_count": 607,
   "id": "916c6db6",
   "metadata": {},
   "outputs": [],
   "source": [
    "#click search button to initiate search\n",
    "search_4=driver.find_element(By.CLASS_NAME, '_2iLD__')\n",
    "search_4.click()"
   ]
  },
  {
   "cell_type": "code",
   "execution_count": 616,
   "id": "92bdc076",
   "metadata": {},
   "outputs": [],
   "source": [
    "# create list for elach detail\n",
    "brand_name=[]\n",
    "product_description=[]\n",
    "product_price=[]\n"
   ]
  },
  {
   "cell_type": "code",
   "execution_count": 617,
   "id": "949b4356",
   "metadata": {},
   "outputs": [
    {
     "name": "stdout",
     "output_type": "stream",
     "text": [
      "120 120 120\n"
     ]
    }
   ],
   "source": [
    "# iterate through pages 1 to 3\n",
    "for page in range (1,4,1):\n",
    "    #load page \n",
    "    driver.get(f'https://www.flipkart.com/search?q=sneakers&otracker=search&otracker1=search&marketplace=FLIPKART&as-show=on&as=off{page}')\n",
    "\n",
    "#find and scrap brand, description and price\n",
    "    name_tags=driver.find_elements(By.XPATH, \"//div[@class='syl9yP']\")\n",
    "    description_tags=driver.find_elements(By.CLASS_NAME, \"WKTcLC\")\n",
    "    price_tags=driver.find_elements(By.XPATH, \"//div[@class='Nx9bqj']\")\n",
    "    \n",
    " #   iterate throught range of pages by length of name_tags\n",
    "    for i in range(len(name_tags)):\n",
    "#append text for each         \n",
    "        brand_name.append(name_tags[i].text)\n",
    "        product_description.append(description_tags[i].text)\n",
    "        product_price.append(price_tags[i].text)\n",
    " \n",
    "\n",
    " \n",
    "#print length of details to confirm equal lengths and to create dataframe \n",
    "print(len(brand_name), len(product_description), len(product_price))\n",
    "\n"
   ]
  },
  {
   "cell_type": "code",
   "execution_count": 618,
   "id": "74e9feb7",
   "metadata": {},
   "outputs": [
    {
     "data": {
      "text/html": [
       "<div>\n",
       "<style scoped>\n",
       "    .dataframe tbody tr th:only-of-type {\n",
       "        vertical-align: middle;\n",
       "    }\n",
       "\n",
       "    .dataframe tbody tr th {\n",
       "        vertical-align: top;\n",
       "    }\n",
       "\n",
       "    .dataframe thead th {\n",
       "        text-align: right;\n",
       "    }\n",
       "</style>\n",
       "<table border=\"1\" class=\"dataframe\">\n",
       "  <thead>\n",
       "    <tr style=\"text-align: right;\">\n",
       "      <th></th>\n",
       "      <th>Brand</th>\n",
       "      <th>Description</th>\n",
       "      <th>Price</th>\n",
       "    </tr>\n",
       "  </thead>\n",
       "  <tbody>\n",
       "    <tr>\n",
       "      <th>1</th>\n",
       "      <td>BRUTON</td>\n",
       "      <td>Lite Casual Shoes Sneakers For Men</td>\n",
       "      <td>₹479</td>\n",
       "    </tr>\n",
       "    <tr>\n",
       "      <th>2</th>\n",
       "      <td>BRUTON</td>\n",
       "      <td>2 Combo Sneaker Shoes Sneakers For Men</td>\n",
       "      <td>₹470</td>\n",
       "    </tr>\n",
       "    <tr>\n",
       "      <th>3</th>\n",
       "      <td>URBANBOX</td>\n",
       "      <td>Trending Stylish Casual Outdoor Shoes Sneakers...</td>\n",
       "      <td>₹299</td>\n",
       "    </tr>\n",
       "    <tr>\n",
       "      <th>4</th>\n",
       "      <td>RED TAPE</td>\n",
       "      <td>Casual Sneakers Shoes for Men | Soft Cushioned...</td>\n",
       "      <td>₹1,179</td>\n",
       "    </tr>\n",
       "    <tr>\n",
       "      <th>5</th>\n",
       "      <td>RED TAPE</td>\n",
       "      <td>Casual Sneaker Shoes for Men | Classic Rounded...</td>\n",
       "      <td>₹1,099</td>\n",
       "    </tr>\n",
       "    <tr>\n",
       "      <th>...</th>\n",
       "      <td>...</td>\n",
       "      <td>...</td>\n",
       "      <td>...</td>\n",
       "    </tr>\n",
       "    <tr>\n",
       "      <th>96</th>\n",
       "      <td>RED TAPE</td>\n",
       "      <td>Casual Sneaker Shoes For Men | Enhanced Comfor...</td>\n",
       "      <td>₹1,119</td>\n",
       "    </tr>\n",
       "    <tr>\n",
       "      <th>97</th>\n",
       "      <td>Labbin</td>\n",
       "      <td>Casual Sneakers ColourFul Block Shoes For Boys...</td>\n",
       "      <td>₹649</td>\n",
       "    </tr>\n",
       "    <tr>\n",
       "      <th>98</th>\n",
       "      <td>Shozie</td>\n",
       "      <td>Stylish Walking Partywear Sneakers Casual Shoe...</td>\n",
       "      <td>₹449</td>\n",
       "    </tr>\n",
       "    <tr>\n",
       "      <th>99</th>\n",
       "      <td>RED TAPE</td>\n",
       "      <td>Sneaker Casual Shoes For Men | Soft Cushion In...</td>\n",
       "      <td>₹1,379</td>\n",
       "    </tr>\n",
       "    <tr>\n",
       "      <th>100</th>\n",
       "      <td>Knoos</td>\n",
       "      <td>Sneakers For Men</td>\n",
       "      <td>₹799</td>\n",
       "    </tr>\n",
       "  </tbody>\n",
       "</table>\n",
       "<p>100 rows × 3 columns</p>\n",
       "</div>"
      ],
      "text/plain": [
       "        Brand                                        Description   Price\n",
       "1      BRUTON                 Lite Casual Shoes Sneakers For Men    ₹479\n",
       "2      BRUTON             2 Combo Sneaker Shoes Sneakers For Men    ₹470\n",
       "3    URBANBOX  Trending Stylish Casual Outdoor Shoes Sneakers...    ₹299\n",
       "4    RED TAPE  Casual Sneakers Shoes for Men | Soft Cushioned...  ₹1,179\n",
       "5    RED TAPE  Casual Sneaker Shoes for Men | Classic Rounded...  ₹1,099\n",
       "..        ...                                                ...     ...\n",
       "96   RED TAPE  Casual Sneaker Shoes For Men | Enhanced Comfor...  ₹1,119\n",
       "97     Labbin  Casual Sneakers ColourFul Block Shoes For Boys...    ₹649\n",
       "98     Shozie  Stylish Walking Partywear Sneakers Casual Shoe...    ₹449\n",
       "99   RED TAPE  Sneaker Casual Shoes For Men | Soft Cushion In...  ₹1,379\n",
       "100     Knoos                                   Sneakers For Men    ₹799\n",
       "\n",
       "[100 rows x 3 columns]"
      ]
     },
     "execution_count": 618,
     "metadata": {},
     "output_type": "execute_result"
    }
   ],
   "source": [
    "#create data frame and correct indec accordingly \n",
    "df_4=pd.DataFrame({'Brand':brand_name, 'Description': product_description, 'Price': product_price })[:100]\n",
    "df_4.index=df_4.index + 1\n",
    "df_4"
   ]
  },
  {
   "cell_type": "markdown",
   "id": "b412eefa",
   "metadata": {},
   "source": [
    "_______________________________"
   ]
  },
  {
   "cell_type": "markdown",
   "id": "26b8bc0c",
   "metadata": {},
   "source": [
    "Q5: Go to webpage https://www.amazon.in/ Enter “Laptop” in the search field and then click the search icon. "
   ]
  },
  {
   "cell_type": "code",
   "execution_count": 442,
   "id": "81cf6cd1",
   "metadata": {},
   "outputs": [],
   "source": [
    "#initiate webdriver \n",
    "driver=webdriver.Chrome()\n"
   ]
  },
  {
   "cell_type": "code",
   "execution_count": 443,
   "id": "f63f7ae3",
   "metadata": {},
   "outputs": [],
   "source": [
    "# open amazon.in in automated chrome \n",
    "driver.get('https://www.amazon.in/')"
   ]
  },
  {
   "cell_type": "code",
   "execution_count": 444,
   "id": "b440a60c",
   "metadata": {},
   "outputs": [],
   "source": [
    "# add 'laptop' to search designation\n",
    "designation_5=driver.find_element(By.ID, 'twotabsearchtextbox')\n",
    "designation_5.send_keys('Laptop')"
   ]
  },
  {
   "cell_type": "code",
   "execution_count": 445,
   "id": "5c89a849",
   "metadata": {},
   "outputs": [],
   "source": [
    "#click search  button \n",
    "search_5=driver.find_element(By.ID, 'nav-search-submit-button')\n",
    "search_5.click()"
   ]
  },
  {
   "cell_type": "code",
   "execution_count": 447,
   "id": "228725b6",
   "metadata": {},
   "outputs": [],
   "source": [
    "# check 'core i7' filter to initiate specific search\n",
    "check_box5=driver.find_element(By.XPATH, \"//li[@id='p_n_feature_thirteen_browse-bin/12598163031']/span/a/div\")\n",
    "check_box5.click()"
   ]
  },
  {
   "cell_type": "code",
   "execution_count": 475,
   "id": "8c310d5b",
   "metadata": {},
   "outputs": [],
   "source": [
    "# create list objects for each detail\n",
    "title_5=[]\n",
    "ratings_5=[]\n",
    "price_5=[]"
   ]
  },
  {
   "cell_type": "code",
   "execution_count": 476,
   "id": "e2f20832",
   "metadata": {},
   "outputs": [],
   "source": [
    "# scrap title, rating and price for laptops on this page\n",
    "title_tags=driver.find_elements(By.XPATH, \"//h2[@class='a-size-mini a-spacing-none a-color-base s-line-clamp-2']\")\n",
    "for i in title_tags:\n",
    "    title=i.text\n",
    "    title_5.append(title)\n",
    "                                 \n",
    "\n",
    "\n",
    "ratings_tags=driver.find_elements(By.XPATH, \"//a[@class='a-popover-trigger a-declarative']\")\n",
    "for i in ratings_tags:\n",
    "    ratings=i.text\n",
    "    ratings_5.append(ratings)\n",
    "    \n",
    "    \n",
    "\n",
    "price_tags=driver.find_elements(By.XPATH, \"//div[@class='a-row a-size-small']\")\n",
    "for i in price_tags:\n",
    "    price=i.text\n",
    "    price_5.append(price)"
   ]
  },
  {
   "cell_type": "code",
   "execution_count": 477,
   "id": "5f4400aa",
   "metadata": {},
   "outputs": [
    {
     "name": "stdout",
     "output_type": "stream",
     "text": [
      "24 24 24\n"
     ]
    }
   ],
   "source": [
    "#print length to confirm all the same to create dataframe\n",
    "print(len(title_5), len(ratings_5), len(price_5))  "
   ]
  },
  {
   "cell_type": "code",
   "execution_count": 478,
   "id": "8b4a75df",
   "metadata": {},
   "outputs": [
    {
     "data": {
      "text/html": [
       "<div>\n",
       "<style scoped>\n",
       "    .dataframe tbody tr th:only-of-type {\n",
       "        vertical-align: middle;\n",
       "    }\n",
       "\n",
       "    .dataframe tbody tr th {\n",
       "        vertical-align: top;\n",
       "    }\n",
       "\n",
       "    .dataframe thead th {\n",
       "        text-align: right;\n",
       "    }\n",
       "</style>\n",
       "<table border=\"1\" class=\"dataframe\">\n",
       "  <thead>\n",
       "    <tr style=\"text-align: right;\">\n",
       "      <th></th>\n",
       "      <th>Title</th>\n",
       "      <th>Rating</th>\n",
       "      <th>Price</th>\n",
       "    </tr>\n",
       "  </thead>\n",
       "  <tbody>\n",
       "    <tr>\n",
       "      <th>1</th>\n",
       "      <td>Dell Inspiron 7420 2in1 Laptop, Intel Core i7-...</td>\n",
       "      <td></td>\n",
       "      <td>69</td>\n",
       "    </tr>\n",
       "    <tr>\n",
       "      <th>2</th>\n",
       "      <td>Acer Aspire Lite 12th Gen Intel Core i7-1255U ...</td>\n",
       "      <td></td>\n",
       "      <td>391</td>\n",
       "    </tr>\n",
       "    <tr>\n",
       "      <th>3</th>\n",
       "      <td>ASUS Vivobook 15, Intel Core i7-12650H 12th Ge...</td>\n",
       "      <td></td>\n",
       "      <td>244</td>\n",
       "    </tr>\n",
       "    <tr>\n",
       "      <th>4</th>\n",
       "      <td>MSI Modern 14, Intel 12th Gen. i7-1255U, 36CM ...</td>\n",
       "      <td></td>\n",
       "      <td>4</td>\n",
       "    </tr>\n",
       "    <tr>\n",
       "      <th>5</th>\n",
       "      <td>Lenovo IdeaPad Slim 3 Intel Core i7 11th Gen 1...</td>\n",
       "      <td></td>\n",
       "      <td>108</td>\n",
       "    </tr>\n",
       "    <tr>\n",
       "      <th>6</th>\n",
       "      <td>HP Laptop 15s, 12th Gen Intel Core i7-1255U, 1...</td>\n",
       "      <td></td>\n",
       "      <td>492</td>\n",
       "    </tr>\n",
       "    <tr>\n",
       "      <th>7</th>\n",
       "      <td>HP Pavilion 14 12th Gen Intel Core i7 16GB SDR...</td>\n",
       "      <td></td>\n",
       "      <td>59</td>\n",
       "    </tr>\n",
       "    <tr>\n",
       "      <th>8</th>\n",
       "      <td>ASUS TUF Gaming F15, 15.6\"(39.62 cms) FHD 144H...</td>\n",
       "      <td></td>\n",
       "      <td>693</td>\n",
       "    </tr>\n",
       "    <tr>\n",
       "      <th>9</th>\n",
       "      <td>Acer Travelmate Business Laptop Intel Core i7-...</td>\n",
       "      <td></td>\n",
       "      <td>285</td>\n",
       "    </tr>\n",
       "    <tr>\n",
       "      <th>10</th>\n",
       "      <td>HP Victus Gaming Laptop, 12th Gen Intel Core i...</td>\n",
       "      <td></td>\n",
       "      <td>34</td>\n",
       "    </tr>\n",
       "  </tbody>\n",
       "</table>\n",
       "</div>"
      ],
      "text/plain": [
       "                                                Title Rating Price\n",
       "1   Dell Inspiron 7420 2in1 Laptop, Intel Core i7-...           69\n",
       "2   Acer Aspire Lite 12th Gen Intel Core i7-1255U ...          391\n",
       "3   ASUS Vivobook 15, Intel Core i7-12650H 12th Ge...          244\n",
       "4   MSI Modern 14, Intel 12th Gen. i7-1255U, 36CM ...            4\n",
       "5   Lenovo IdeaPad Slim 3 Intel Core i7 11th Gen 1...          108\n",
       "6   HP Laptop 15s, 12th Gen Intel Core i7-1255U, 1...          492\n",
       "7   HP Pavilion 14 12th Gen Intel Core i7 16GB SDR...           59\n",
       "8   ASUS TUF Gaming F15, 15.6\"(39.62 cms) FHD 144H...          693\n",
       "9   Acer Travelmate Business Laptop Intel Core i7-...          285\n",
       "10  HP Victus Gaming Laptop, 12th Gen Intel Core i...           34"
      ]
     },
     "execution_count": 478,
     "metadata": {},
     "output_type": "execute_result"
    }
   ],
   "source": [
    "#create data frame, correct index accordingly and make sure to slice to first ten laptops\n",
    "df_5=pd.DataFrame({'Title':title_5, 'Rating': ratings_5, 'Price': price_5})[:10]\n",
    "df_5.index=df_5.index + 1\n",
    "df_5"
   ]
  },
  {
   "cell_type": "markdown",
   "id": "01a58daf",
   "metadata": {},
   "source": [
    "______________"
   ]
  },
  {
   "cell_type": "markdown",
   "id": "e9d5f4ea",
   "metadata": {},
   "source": [
    "Q6: Write a python program to scrape data for Top 1000 Quotes of All Time. \n",
    "The above task will be done in following steps: \n",
    "1. First get the webpagehttps://www.azquotes.com/  2. Click on Top Quote 3. Than scrap a) Quote b) Author c) Type Of Quotes "
   ]
  },
  {
   "cell_type": "code",
   "execution_count": 588,
   "id": "166134cc",
   "metadata": {},
   "outputs": [],
   "source": [
    "#initiate webdriver\n",
    "driver=webdriver.Chrome()"
   ]
  },
  {
   "cell_type": "code",
   "execution_count": 589,
   "id": "99dad337",
   "metadata": {},
   "outputs": [],
   "source": [
    "# open azquotes in automated Chrome\n",
    "driver.get('https://www.azquotes.com/')"
   ]
  },
  {
   "cell_type": "code",
   "execution_count": 590,
   "id": "e8c79cf5",
   "metadata": {},
   "outputs": [],
   "source": [
    "#click 'top qoutes' to go to webpage\n",
    "click_6=driver.find_element(By.XPATH, '//a[@href=\"/top_quotes.html\"]')\n",
    "click_6.click()"
   ]
  },
  {
   "cell_type": "code",
   "execution_count": 601,
   "id": "321eedb0",
   "metadata": {},
   "outputs": [],
   "source": [
    "#create lists of details to be scraped\n",
    "quote_=[]\n",
    "author_=[]\n",
    "quote_type=[]"
   ]
  },
  {
   "cell_type": "code",
   "execution_count": 602,
   "id": "3d2b8d02",
   "metadata": {},
   "outputs": [
    {
     "name": "stdout",
     "output_type": "stream",
     "text": [
      "1000 1000 1000\n"
     ]
    }
   ],
   "source": [
    "#iterate through pages 1 to 10 \n",
    "for page in range (1,11,1):\n",
    "    #load page \n",
    "    driver.get(f'http://www.azquotes.com/top_quotes.html{page}')\n",
    "\n",
    "    \n",
    "#find details to scrap\n",
    "    quote_tags=driver.find_elements(By.XPATH, '//a[@class=\"title\"]')\n",
    "    author_tags=driver.find_elements(By.XPATH, '//div[@class=\"author\"]')\n",
    "    type_tags=driver.find_elements(By.XPATH, '//div[@class=\"tags\"]')\n",
    "    \n",
    "    \n",
    "#iterate through range of pages by length of quote_tags   \n",
    "    for i in range(len(quote_tags)):\n",
    "#append text for each \n",
    "        quote_.append(quote_tags[i].text)\n",
    "        author_.append(author_tags[i].text)\n",
    "        quote_type.append(type_tags[i].text)\n",
    "\n",
    "        \n",
    "#print length of each detail to confirm the same and create dataframe\n",
    "print(len(quote_), len(author_), len(quote_type))\n",
    "    "
   ]
  },
  {
   "cell_type": "code",
   "execution_count": 603,
   "id": "836cae1e",
   "metadata": {},
   "outputs": [
    {
     "data": {
      "text/html": [
       "<div>\n",
       "<style scoped>\n",
       "    .dataframe tbody tr th:only-of-type {\n",
       "        vertical-align: middle;\n",
       "    }\n",
       "\n",
       "    .dataframe tbody tr th {\n",
       "        vertical-align: top;\n",
       "    }\n",
       "\n",
       "    .dataframe thead th {\n",
       "        text-align: right;\n",
       "    }\n",
       "</style>\n",
       "<table border=\"1\" class=\"dataframe\">\n",
       "  <thead>\n",
       "    <tr style=\"text-align: right;\">\n",
       "      <th></th>\n",
       "      <th>Quote</th>\n",
       "      <th>Author</th>\n",
       "      <th>Type of Quote</th>\n",
       "    </tr>\n",
       "  </thead>\n",
       "  <tbody>\n",
       "    <tr>\n",
       "      <th>1</th>\n",
       "      <td>The essence of strategy is choosing what not t...</td>\n",
       "      <td>Michael Porter</td>\n",
       "      <td>Essence, Deep Thought, Transcendentalism</td>\n",
       "    </tr>\n",
       "    <tr>\n",
       "      <th>2</th>\n",
       "      <td>One cannot and must not try to erase the past ...</td>\n",
       "      <td>Golda Meir</td>\n",
       "      <td>Inspiration, Past, Trying</td>\n",
       "    </tr>\n",
       "    <tr>\n",
       "      <th>3</th>\n",
       "      <td>Patriotism means to stand by the country. It d...</td>\n",
       "      <td>Theodore Roosevelt</td>\n",
       "      <td>Country, Peace, War</td>\n",
       "    </tr>\n",
       "    <tr>\n",
       "      <th>4</th>\n",
       "      <td>Death is something inevitable. When a man has ...</td>\n",
       "      <td>Nelson Mandela</td>\n",
       "      <td>Inspirational, Motivational, Death</td>\n",
       "    </tr>\n",
       "    <tr>\n",
       "      <th>5</th>\n",
       "      <td>You have to love a nation that celebrates its ...</td>\n",
       "      <td>Erma Bombeck</td>\n",
       "      <td>4th Of July, Food, Patriotic</td>\n",
       "    </tr>\n",
       "    <tr>\n",
       "      <th>...</th>\n",
       "      <td>...</td>\n",
       "      <td>...</td>\n",
       "      <td>...</td>\n",
       "    </tr>\n",
       "    <tr>\n",
       "      <th>996</th>\n",
       "      <td>When the going gets weird, the weird turn pro.</td>\n",
       "      <td>Hunter S. Thompson</td>\n",
       "      <td>Music, Sports, Hunting</td>\n",
       "    </tr>\n",
       "    <tr>\n",
       "      <th>997</th>\n",
       "      <td>When a train goes through a tunnel and it gets...</td>\n",
       "      <td>Corrie Ten Boom</td>\n",
       "      <td>Trust, Encouraging, Uplifting</td>\n",
       "    </tr>\n",
       "    <tr>\n",
       "      <th>998</th>\n",
       "      <td>If you think you are too small to make a diffe...</td>\n",
       "      <td>Dalai Lama</td>\n",
       "      <td>Inspirational, Funny, Change</td>\n",
       "    </tr>\n",
       "    <tr>\n",
       "      <th>999</th>\n",
       "      <td>God doesn't require us to succeed, he only req...</td>\n",
       "      <td>Mother Teresa</td>\n",
       "      <td>Success, God, Mother</td>\n",
       "    </tr>\n",
       "    <tr>\n",
       "      <th>1000</th>\n",
       "      <td>Change your thoughts and you change your world.</td>\n",
       "      <td>Norman Vincent Peale</td>\n",
       "      <td>Inspirational, Motivational, Change</td>\n",
       "    </tr>\n",
       "  </tbody>\n",
       "</table>\n",
       "<p>1000 rows × 3 columns</p>\n",
       "</div>"
      ],
      "text/plain": [
       "                                                  Quote                Author  \\\n",
       "1     The essence of strategy is choosing what not t...        Michael Porter   \n",
       "2     One cannot and must not try to erase the past ...            Golda Meir   \n",
       "3     Patriotism means to stand by the country. It d...    Theodore Roosevelt   \n",
       "4     Death is something inevitable. When a man has ...        Nelson Mandela   \n",
       "5     You have to love a nation that celebrates its ...          Erma Bombeck   \n",
       "...                                                 ...                   ...   \n",
       "996      When the going gets weird, the weird turn pro.    Hunter S. Thompson   \n",
       "997   When a train goes through a tunnel and it gets...       Corrie Ten Boom   \n",
       "998   If you think you are too small to make a diffe...            Dalai Lama   \n",
       "999   God doesn't require us to succeed, he only req...         Mother Teresa   \n",
       "1000    Change your thoughts and you change your world.  Norman Vincent Peale   \n",
       "\n",
       "                                 Type of Quote  \n",
       "1     Essence, Deep Thought, Transcendentalism  \n",
       "2                    Inspiration, Past, Trying  \n",
       "3                          Country, Peace, War  \n",
       "4           Inspirational, Motivational, Death  \n",
       "5                 4th Of July, Food, Patriotic  \n",
       "...                                        ...  \n",
       "996                     Music, Sports, Hunting  \n",
       "997              Trust, Encouraging, Uplifting  \n",
       "998               Inspirational, Funny, Change  \n",
       "999                       Success, God, Mother  \n",
       "1000       Inspirational, Motivational, Change  \n",
       "\n",
       "[1000 rows x 3 columns]"
      ]
     },
     "execution_count": 603,
     "metadata": {},
     "output_type": "execute_result"
    }
   ],
   "source": [
    "#create dataframe and correct index accordingly\n",
    "df_6a=pd.DataFrame({'Quote':quote_, 'Author': author_, 'Type of Quote': quote_type })\n",
    "df_6a.index=df_6a.index + 1\n",
    "df_6a"
   ]
  },
  {
   "cell_type": "markdown",
   "id": "1885f04c",
   "metadata": {},
   "source": [
    "____________________"
   ]
  },
  {
   "cell_type": "markdown",
   "id": "5f90b55e",
   "metadata": {},
   "source": [
    "Q7: Write a python program to display list of respected former Prime Ministers of India (i.e. Name, Born-Dead, Term of office, Remarks) from https://www.jagranjosh.com/general-knowledge/list-of-all-prime-ministers-of-india-1473165149-1  \n",
    " \n",
    " scrap the mentioned data and make the DataFrame "
   ]
  },
  {
   "cell_type": "code",
   "execution_count": 299,
   "id": "702480e2",
   "metadata": {},
   "outputs": [],
   "source": [
    "#initiate webdriver \n",
    "driver=webdriver.Chrome()"
   ]
  },
  {
   "cell_type": "code",
   "execution_count": 300,
   "id": "8cb9166a",
   "metadata": {},
   "outputs": [],
   "source": [
    "#open 'jagranjosh' website in automated Chrome\n",
    "driver.get('https://www.jagranjosh.com/general-knowledge/list-of-all-prime-ministers-of-india-1473165149-1')"
   ]
  },
  {
   "cell_type": "code",
   "execution_count": 325,
   "id": "b172e1fe",
   "metadata": {},
   "outputs": [],
   "source": [
    "#create list for each detail\n",
    "PM_name=[]\n",
    "born_dead=[]\n",
    "office_term=[]\n",
    "remark_=[]"
   ]
  },
  {
   "cell_type": "code",
   "execution_count": 326,
   "id": "1feb6326",
   "metadata": {},
   "outputs": [],
   "source": [
    "#scrap each detail from the table \n",
    "name_tags=driver.find_elements(By.XPATH, \"//div[@class='TableData']//tbody/tr/td[2]/div\")\n",
    "for i in name_tags:\n",
    "    name=i.text\n",
    "    PM_name.append(name)\n",
    "    \n",
    "\n",
    "born_tags=driver.find_elements(By.XPATH, \"//div[@class='TableData']//tbody/tr/td[3]\")\n",
    "for i in born_tags:\n",
    "    born=i.text\n",
    "    born_dead.append(born)\n",
    "    \n",
    "    \n",
    "\n",
    "term_tags=driver.find_elements(By.XPATH, \"//div[@class='TableData']//tbody/tr/td[4]\")\n",
    "for i in term_tags:\n",
    "    term=i.text\n",
    "    office_term.append(term)\n",
    "    \n",
    "    \n",
    "\n",
    "remark_tags=driver.find_elements(By.XPATH, \"//div[@class='TableData']//tbody/tr/td[5]\")\n",
    "for i in remark_tags:\n",
    "    remark=i.text\n",
    "    remark_.append(remark)\n",
    "    \n",
    "    "
   ]
  },
  {
   "cell_type": "code",
   "execution_count": 327,
   "id": "08d1a85d",
   "metadata": {},
   "outputs": [
    {
     "name": "stdout",
     "output_type": "stream",
     "text": [
      "19 19 19 19\n"
     ]
    }
   ],
   "source": [
    "#printe length of each detail to confirm the smae in order to create dataframe\n",
    "print(len(PM_name), len(born_dead), len(office_term), len(remark_))"
   ]
  },
  {
   "cell_type": "code",
   "execution_count": 329,
   "id": "61844499",
   "metadata": {},
   "outputs": [
    {
     "data": {
      "text/html": [
       "<div>\n",
       "<style scoped>\n",
       "    .dataframe tbody tr th:only-of-type {\n",
       "        vertical-align: middle;\n",
       "    }\n",
       "\n",
       "    .dataframe tbody tr th {\n",
       "        vertical-align: top;\n",
       "    }\n",
       "\n",
       "    .dataframe thead th {\n",
       "        text-align: right;\n",
       "    }\n",
       "</style>\n",
       "<table border=\"1\" class=\"dataframe\">\n",
       "  <thead>\n",
       "    <tr style=\"text-align: right;\">\n",
       "      <th></th>\n",
       "      <th>Priminster Name</th>\n",
       "      <th>Born-Dead</th>\n",
       "      <th>Term in Office</th>\n",
       "      <th>Remark</th>\n",
       "    </tr>\n",
       "  </thead>\n",
       "  <tbody>\n",
       "    <tr>\n",
       "      <th>1</th>\n",
       "      <td>Jawahar Lal Nehru</td>\n",
       "      <td>(1889–1964)</td>\n",
       "      <td>15 August 1947 to 27 May 1964\\n16 years, 286 days</td>\n",
       "      <td>The first prime minister of India and the long...</td>\n",
       "    </tr>\n",
       "    <tr>\n",
       "      <th>2</th>\n",
       "      <td>Gulzarilal Nanda (Acting)</td>\n",
       "      <td>(1898-1998)</td>\n",
       "      <td>27 May 1964 to 9 June 1964,\\n13 days</td>\n",
       "      <td>First acting PM of India</td>\n",
       "    </tr>\n",
       "    <tr>\n",
       "      <th>3</th>\n",
       "      <td>Lal Bahadur Shastri</td>\n",
       "      <td>(1904–1966)</td>\n",
       "      <td>9 June 1964 to 11 January 1966\\n1 year, 216 days</td>\n",
       "      <td>He has given the slogan of 'Jai Jawan Jai Kisa...</td>\n",
       "    </tr>\n",
       "    <tr>\n",
       "      <th>4</th>\n",
       "      <td>Gulzari Lal Nanda  (Acting)</td>\n",
       "      <td>(1898-1998)</td>\n",
       "      <td>11 January 1966 to 24 January 1966\\n13 days</td>\n",
       "      <td>-</td>\n",
       "    </tr>\n",
       "    <tr>\n",
       "      <th>5</th>\n",
       "      <td>Indira Gandhi</td>\n",
       "      <td>(1917–1984)</td>\n",
       "      <td>24 January 1966 to 24 March 1977\\n11 years, 59...</td>\n",
       "      <td>First female Prime Minister of India</td>\n",
       "    </tr>\n",
       "    <tr>\n",
       "      <th>6</th>\n",
       "      <td>Morarji Desai</td>\n",
       "      <td>(1896–1995)</td>\n",
       "      <td>24 March 1977 to  28 July 1979 \\n2 year, 126 days</td>\n",
       "      <td>Oldest to become PM (81 years old) and first t...</td>\n",
       "    </tr>\n",
       "    <tr>\n",
       "      <th>7</th>\n",
       "      <td>Charan Singh</td>\n",
       "      <td>(1902–1987)</td>\n",
       "      <td>28 July 1979 to 14 January 1980\\n170 days</td>\n",
       "      <td>Only PM who did not face the Parliament</td>\n",
       "    </tr>\n",
       "    <tr>\n",
       "      <th>8</th>\n",
       "      <td>Indira Gandhi</td>\n",
       "      <td>(1917–1984)</td>\n",
       "      <td>14 January 1980 to 31 October 1984\\n4 years, 2...</td>\n",
       "      <td>The first lady who served as PM for the second...</td>\n",
       "    </tr>\n",
       "    <tr>\n",
       "      <th>9</th>\n",
       "      <td>Rajiv Gandhi</td>\n",
       "      <td>(1944–1991)</td>\n",
       "      <td>31 October 1984 to 2 December 1989\\n5 years, 3...</td>\n",
       "      <td>Youngest to become PM (40 years old)</td>\n",
       "    </tr>\n",
       "    <tr>\n",
       "      <th>10</th>\n",
       "      <td>V. P. Singh</td>\n",
       "      <td>(1931–2008)</td>\n",
       "      <td>2 December 1989 to 10 November 1990\\n343 days</td>\n",
       "      <td>First PM to step down after a vote of no confi...</td>\n",
       "    </tr>\n",
       "    <tr>\n",
       "      <th>11</th>\n",
       "      <td>Chandra Shekhar</td>\n",
       "      <td>(1927–2007)</td>\n",
       "      <td>10 November 1990 to 21 June 1991\\n223 days</td>\n",
       "      <td>He belongs to  Samajwadi Janata Party</td>\n",
       "    </tr>\n",
       "    <tr>\n",
       "      <th>12</th>\n",
       "      <td>P. V. Narasimha Rao</td>\n",
       "      <td>(1921–2004)</td>\n",
       "      <td>21 June 1991 to 16 May 1996\\n4 years, 330 days</td>\n",
       "      <td>First PM from South India</td>\n",
       "    </tr>\n",
       "    <tr>\n",
       "      <th>13</th>\n",
       "      <td>Atal Bihari Vajpayee</td>\n",
       "      <td>(1924- 2018)</td>\n",
       "      <td>16 May 1996 to 1 June 1996\\n16 days</td>\n",
       "      <td>PM for shortest tenure</td>\n",
       "    </tr>\n",
       "    <tr>\n",
       "      <th>14</th>\n",
       "      <td>H. D. Deve Gowda</td>\n",
       "      <td>(born 1933)</td>\n",
       "      <td>1 June 1996 to 21 April 1997\\n324 days</td>\n",
       "      <td>He belongs to  Janata Dal</td>\n",
       "    </tr>\n",
       "    <tr>\n",
       "      <th>15</th>\n",
       "      <td>Inder Kumar Gujral</td>\n",
       "      <td>(1919–2012)</td>\n",
       "      <td>21 April 1997 to 19 March 1998 \\n332 days</td>\n",
       "      <td>------</td>\n",
       "    </tr>\n",
       "    <tr>\n",
       "      <th>16</th>\n",
       "      <td>Atal Bihari Vajpayee</td>\n",
       "      <td>(1924-2018)</td>\n",
       "      <td>19 March 1998 to 22 May 2004 \\n6 years, 64 days</td>\n",
       "      <td>The first non-congress PM who completed a ful...</td>\n",
       "    </tr>\n",
       "    <tr>\n",
       "      <th>17</th>\n",
       "      <td>Manmohan Singh</td>\n",
       "      <td>(born 1932)</td>\n",
       "      <td>22 May 2004 to 26 May 2014   \\n10 years, 4 days</td>\n",
       "      <td>First Sikh PM</td>\n",
       "    </tr>\n",
       "    <tr>\n",
       "      <th>18</th>\n",
       "      <td>Narendra Modi</td>\n",
       "      <td>(born 1950)</td>\n",
       "      <td>26 May 2014 - 2019</td>\n",
       "      <td>4th Prime Minister of India who served two con...</td>\n",
       "    </tr>\n",
       "    <tr>\n",
       "      <th>19</th>\n",
       "      <td>Narendra Modi</td>\n",
       "      <td>(born 1950)</td>\n",
       "      <td>30 May 2019- Incumbent</td>\n",
       "      <td>First non-congress PM with two consecutive ten...</td>\n",
       "    </tr>\n",
       "  </tbody>\n",
       "</table>\n",
       "</div>"
      ],
      "text/plain": [
       "                Priminster Name     Born-Dead  \\\n",
       "1             Jawahar Lal Nehru   (1889–1964)   \n",
       "2     Gulzarilal Nanda (Acting)   (1898-1998)   \n",
       "3           Lal Bahadur Shastri   (1904–1966)   \n",
       "4   Gulzari Lal Nanda  (Acting)   (1898-1998)   \n",
       "5                 Indira Gandhi   (1917–1984)   \n",
       "6                 Morarji Desai   (1896–1995)   \n",
       "7                  Charan Singh   (1902–1987)   \n",
       "8                 Indira Gandhi   (1917–1984)   \n",
       "9                  Rajiv Gandhi   (1944–1991)   \n",
       "10                  V. P. Singh   (1931–2008)   \n",
       "11              Chandra Shekhar   (1927–2007)   \n",
       "12          P. V. Narasimha Rao   (1921–2004)   \n",
       "13         Atal Bihari Vajpayee  (1924- 2018)   \n",
       "14             H. D. Deve Gowda   (born 1933)   \n",
       "15           Inder Kumar Gujral   (1919–2012)   \n",
       "16         Atal Bihari Vajpayee   (1924-2018)   \n",
       "17               Manmohan Singh   (born 1932)   \n",
       "18                Narendra Modi   (born 1950)   \n",
       "19                Narendra Modi   (born 1950)   \n",
       "\n",
       "                                       Term in Office  \\\n",
       "1   15 August 1947 to 27 May 1964\\n16 years, 286 days   \n",
       "2                27 May 1964 to 9 June 1964,\\n13 days   \n",
       "3    9 June 1964 to 11 January 1966\\n1 year, 216 days   \n",
       "4         11 January 1966 to 24 January 1966\\n13 days   \n",
       "5   24 January 1966 to 24 March 1977\\n11 years, 59...   \n",
       "6   24 March 1977 to  28 July 1979 \\n2 year, 126 days   \n",
       "7           28 July 1979 to 14 January 1980\\n170 days   \n",
       "8   14 January 1980 to 31 October 1984\\n4 years, 2...   \n",
       "9   31 October 1984 to 2 December 1989\\n5 years, 3...   \n",
       "10      2 December 1989 to 10 November 1990\\n343 days   \n",
       "11         10 November 1990 to 21 June 1991\\n223 days   \n",
       "12     21 June 1991 to 16 May 1996\\n4 years, 330 days   \n",
       "13                16 May 1996 to 1 June 1996\\n16 days   \n",
       "14             1 June 1996 to 21 April 1997\\n324 days   \n",
       "15          21 April 1997 to 19 March 1998 \\n332 days   \n",
       "16    19 March 1998 to 22 May 2004 \\n6 years, 64 days   \n",
       "17    22 May 2004 to 26 May 2014   \\n10 years, 4 days   \n",
       "18                                 26 May 2014 - 2019   \n",
       "19                             30 May 2019- Incumbent   \n",
       "\n",
       "                                               Remark  \n",
       "1   The first prime minister of India and the long...  \n",
       "2                            First acting PM of India  \n",
       "3   He has given the slogan of 'Jai Jawan Jai Kisa...  \n",
       "4                                                   -  \n",
       "5                First female Prime Minister of India  \n",
       "6   Oldest to become PM (81 years old) and first t...  \n",
       "7             Only PM who did not face the Parliament  \n",
       "8   The first lady who served as PM for the second...  \n",
       "9                Youngest to become PM (40 years old)  \n",
       "10  First PM to step down after a vote of no confi...  \n",
       "11              He belongs to  Samajwadi Janata Party  \n",
       "12                          First PM from South India  \n",
       "13                             PM for shortest tenure  \n",
       "14                          He belongs to  Janata Dal  \n",
       "15                                             ------  \n",
       "16   The first non-congress PM who completed a ful...  \n",
       "17                                      First Sikh PM  \n",
       "18  4th Prime Minister of India who served two con...  \n",
       "19  First non-congress PM with two consecutive ten...  "
      ]
     },
     "execution_count": 329,
     "metadata": {},
     "output_type": "execute_result"
    }
   ],
   "source": [
    "#create data from and correct index\n",
    "df_7=pd.DataFrame({'Priminster Name': PM_name, 'Born-Dead': born_dead, 'Term in Office':office_term, 'Remark':remark_})\n",
    "df_7.index=df_7.index + 1\n",
    "df_7"
   ]
  },
  {
   "cell_type": "markdown",
   "id": "378aac9a",
   "metadata": {},
   "source": [
    "________________________"
   ]
  },
  {
   "cell_type": "markdown",
   "id": "3c623661",
   "metadata": {},
   "source": [
    "Q8: Write a python program to display list of 50 Most expensive cars in the world (i.e. Car name and Price) from https://www.motor1.com/  \n",
    " \n",
    " \n",
    "This task will be done in following steps: \n",
    "1. First get the webpage https://www.motor1.com/ 2. Then You have to type in the search bar ’50 most expensive cars’ 3. Then click on 50 most expensive cars in the world.. 4. Then scrap the mentioned data and make the dataframe. "
   ]
  },
  {
   "cell_type": "code",
   "execution_count": 680,
   "id": "6bb12009",
   "metadata": {},
   "outputs": [],
   "source": [
    "#initiate webdriver\n",
    "driver=webdriver.Chrome()"
   ]
  },
  {
   "cell_type": "code",
   "execution_count": 681,
   "id": "07f894b7",
   "metadata": {},
   "outputs": [],
   "source": [
    "#open webpage in automated Chrome\n",
    "driver.get('https://www.motor1.com/')"
   ]
  },
  {
   "cell_type": "markdown",
   "id": "261d9065",
   "metadata": {},
   "source": [
    "CHANGED 50 TO 20 AS IT DIDNT APPEAR"
   ]
  },
  {
   "cell_type": "code",
   "execution_count": 683,
   "id": "03b1d7d6",
   "metadata": {},
   "outputs": [],
   "source": [
    "#insert '20 most expensive cars in the world' in designation box\n",
    "designation_8=driver.find_element(By.ID, \"search_input\")\n",
    "designation_8.send_keys('20 most expensive cars in the world')"
   ]
  },
  {
   "cell_type": "code",
   "execution_count": 684,
   "id": "1462c7fb",
   "metadata": {},
   "outputs": [],
   "source": [
    "#click search button to find article\n",
    "search_8=driver.find_element(By.XPATH, \"//button[@class='m1-search-panel-button m1-search-form-button-animate icon-search-svg']\")\n",
    "search_8.click()"
   ]
  },
  {
   "cell_type": "code",
   "execution_count": 685,
   "id": "0ad1c204",
   "metadata": {},
   "outputs": [],
   "source": [
    "#click article to open \n",
    "search_link=driver.find_element(By.XPATH, \"//h3/a\")\n",
    "search_link.click()"
   ]
  },
  {
   "cell_type": "code",
   "execution_count": 698,
   "id": "1799f73e",
   "metadata": {},
   "outputs": [],
   "source": [
    "#create lists for each detail\n",
    "car_name=[]\n",
    "car_price=[]\n"
   ]
  },
  {
   "cell_type": "code",
   "execution_count": 699,
   "id": "e1c14b26",
   "metadata": {},
   "outputs": [],
   "source": [
    "#scrap name and price \n",
    "name_tags=driver.find_elements(By.XPATH, \"//h3[@class='subheader']\")\n",
    "for i in name_tags:\n",
    "    name=i.text\n",
    "    car_name.append(name)\n",
    "    \n",
    "#\n",
    "price_tags=driver.find_elements(By.XPATH, \"//p/strong\")\n",
    "for i in price_tags:\n",
    "    price=i.text\n",
    "    car_price.append(price)\n",
    "    \n"
   ]
  },
  {
   "cell_type": "code",
   "execution_count": 700,
   "id": "a46f4128",
   "metadata": {},
   "outputs": [
    {
     "name": "stdout",
     "output_type": "stream",
     "text": [
      "22 22\n"
     ]
    }
   ],
   "source": [
    "#print length fo each to confirm the same and create dataframe\n",
    "print(len(car_name), len(car_price))"
   ]
  },
  {
   "cell_type": "markdown",
   "id": "d33e247b",
   "metadata": {},
   "source": [
    "________________________________________________"
   ]
  },
  {
   "cell_type": "markdown",
   "id": "65d0ecb2",
   "metadata": {},
   "source": [
    "THERE IS AN ERROR IN THE PRICE LIST, THE 3RD PRICE IS EMPTY AND CONTINUES CORRECTLY ONWARDS BUT IN THE WRONG PLACE."
   ]
  },
  {
   "cell_type": "code",
   "execution_count": 689,
   "id": "0e07e583",
   "metadata": {
    "scrolled": false
   },
   "outputs": [
    {
     "data": {
      "text/html": [
       "<div>\n",
       "<style scoped>\n",
       "    .dataframe tbody tr th:only-of-type {\n",
       "        vertical-align: middle;\n",
       "    }\n",
       "\n",
       "    .dataframe tbody tr th {\n",
       "        vertical-align: top;\n",
       "    }\n",
       "\n",
       "    .dataframe thead th {\n",
       "        text-align: right;\n",
       "    }\n",
       "</style>\n",
       "<table border=\"1\" class=\"dataframe\">\n",
       "  <thead>\n",
       "    <tr style=\"text-align: right;\">\n",
       "      <th></th>\n",
       "      <th>Name</th>\n",
       "      <th>Price</th>\n",
       "    </tr>\n",
       "  </thead>\n",
       "  <tbody>\n",
       "    <tr>\n",
       "      <th>1</th>\n",
       "      <td>Ferrari LaFerrari</td>\n",
       "      <td>Price: £1.1 million ($1.4 million)</td>\n",
       "    </tr>\n",
       "    <tr>\n",
       "      <th>2</th>\n",
       "      <td>Pagani Huayra</td>\n",
       "      <td>Price: £1.1 million ($1.4 million)</td>\n",
       "    </tr>\n",
       "    <tr>\n",
       "      <th>3</th>\n",
       "      <td>McLaren Elva</td>\n",
       "      <td></td>\n",
       "    </tr>\n",
       "    <tr>\n",
       "      <th>4</th>\n",
       "      <td>Ferrari Monza</td>\n",
       "      <td>Price: £1.3 million ($1.7 million)</td>\n",
       "    </tr>\n",
       "    <tr>\n",
       "      <th>5</th>\n",
       "      <td>Bentley Bacalar</td>\n",
       "      <td>Price: £1.3 million ($1.7 million)</td>\n",
       "    </tr>\n",
       "    <tr>\n",
       "      <th>6</th>\n",
       "      <td>Pininfarina Battista</td>\n",
       "      <td>Price: £1.5 million ($1.9 million)</td>\n",
       "    </tr>\n",
       "    <tr>\n",
       "      <th>7</th>\n",
       "      <td>Mercedes-AMG Project One</td>\n",
       "      <td>Price: £1.9 million ($2.5 million)</td>\n",
       "    </tr>\n",
       "    <tr>\n",
       "      <th>8</th>\n",
       "      <td>Aston Martin Victor</td>\n",
       "      <td>Price: £2.1 million ($2.7 million)</td>\n",
       "    </tr>\n",
       "    <tr>\n",
       "      <th>9</th>\n",
       "      <td>Bugatti Bolide</td>\n",
       "      <td>Price: £2.3 million ($3.0 million)</td>\n",
       "    </tr>\n",
       "    <tr>\n",
       "      <th>10</th>\n",
       "      <td>Aston Martin Valkyrie</td>\n",
       "      <td>Price: £2.3 million ($3.0 million)</td>\n",
       "    </tr>\n",
       "    <tr>\n",
       "      <th>11</th>\n",
       "      <td>W Motors Lykan Hypersport</td>\n",
       "      <td>Price: £2.5 million* ($3.2 million)</td>\n",
       "    </tr>\n",
       "    <tr>\n",
       "      <th>12</th>\n",
       "      <td>Pagani Huayra Roadster BC</td>\n",
       "      <td>Price: £2.6 million ($3.4 million)</td>\n",
       "    </tr>\n",
       "    <tr>\n",
       "      <th>13</th>\n",
       "      <td>Bugatti Chiron Pur Sport</td>\n",
       "      <td>Price: £2.7 million ($3.5 million)</td>\n",
       "    </tr>\n",
       "    <tr>\n",
       "      <th>14</th>\n",
       "      <td>Lamborghini Sian</td>\n",
       "      <td>Price: £2.8 million ($3.6 million)</td>\n",
       "    </tr>\n",
       "    <tr>\n",
       "      <th>15</th>\n",
       "      <td>Bugatti Chiron Super Sport 300+</td>\n",
       "      <td>Price: £2.8 million ($3.6 million)</td>\n",
       "    </tr>\n",
       "    <tr>\n",
       "      <th>16</th>\n",
       "      <td>Lamborghini Veneno</td>\n",
       "      <td>Price: £3.0 million ($3.9 million)</td>\n",
       "    </tr>\n",
       "    <tr>\n",
       "      <th>17</th>\n",
       "      <td>Bugatti Divo</td>\n",
       "      <td>Price: £3.5 million ($4.5 million)</td>\n",
       "    </tr>\n",
       "    <tr>\n",
       "      <th>18</th>\n",
       "      <td>Mercedes-Maybach Exelero</td>\n",
       "      <td>Price: £4.5 million ($5.8 million)</td>\n",
       "    </tr>\n",
       "    <tr>\n",
       "      <th>19</th>\n",
       "      <td>Bugatti Centodieci</td>\n",
       "      <td>Price: £6.1 million ($8.0 million)</td>\n",
       "    </tr>\n",
       "    <tr>\n",
       "      <th>20</th>\n",
       "      <td>Bugatti La Voiture Noire</td>\n",
       "      <td>Price: £6.9 million ($9.0 million)</td>\n",
       "    </tr>\n",
       "    <tr>\n",
       "      <th>21</th>\n",
       "      <td>Rolls-Royce Boat Tail*</td>\n",
       "      <td>Price: £14.4 million ($18.7 million)</td>\n",
       "    </tr>\n",
       "  </tbody>\n",
       "</table>\n",
       "</div>"
      ],
      "text/plain": [
       "                               Name                                 Price\n",
       "1                 Ferrari LaFerrari    Price: £1.1 million ($1.4 million)\n",
       "2                     Pagani Huayra    Price: £1.1 million ($1.4 million)\n",
       "3                      McLaren Elva                                      \n",
       "4                     Ferrari Monza    Price: £1.3 million ($1.7 million)\n",
       "5                   Bentley Bacalar    Price: £1.3 million ($1.7 million)\n",
       "6              Pininfarina Battista    Price: £1.5 million ($1.9 million)\n",
       "7          Mercedes-AMG Project One    Price: £1.9 million ($2.5 million)\n",
       "8               Aston Martin Victor    Price: £2.1 million ($2.7 million)\n",
       "9                    Bugatti Bolide    Price: £2.3 million ($3.0 million)\n",
       "10            Aston Martin Valkyrie    Price: £2.3 million ($3.0 million)\n",
       "11        W Motors Lykan Hypersport   Price: £2.5 million* ($3.2 million)\n",
       "12        Pagani Huayra Roadster BC    Price: £2.6 million ($3.4 million)\n",
       "13         Bugatti Chiron Pur Sport    Price: £2.7 million ($3.5 million)\n",
       "14                 Lamborghini Sian    Price: £2.8 million ($3.6 million)\n",
       "15  Bugatti Chiron Super Sport 300+    Price: £2.8 million ($3.6 million)\n",
       "16               Lamborghini Veneno    Price: £3.0 million ($3.9 million)\n",
       "17                     Bugatti Divo    Price: £3.5 million ($4.5 million)\n",
       "18         Mercedes-Maybach Exelero    Price: £4.5 million ($5.8 million)\n",
       "19               Bugatti Centodieci    Price: £6.1 million ($8.0 million)\n",
       "20         Bugatti La Voiture Noire    Price: £6.9 million ($9.0 million)\n",
       "21           Rolls-Royce Boat Tail*  Price: £14.4 million ($18.7 million)"
      ]
     },
     "execution_count": 689,
     "metadata": {},
     "output_type": "execute_result"
    }
   ],
   "source": [
    "#create dataframe and correct index accordingly\n",
    "df_8=pd.DataFrame({'Name': car_name, 'Price': car_price})[:21]\n",
    "df_8.index=df_8.index + 1 \n",
    "df_8"
   ]
  },
  {
   "cell_type": "markdown",
   "id": "7b107d23",
   "metadata": {},
   "source": [
    "_______________________________"
   ]
  },
  {
   "cell_type": "markdown",
   "id": "b5a3f981",
   "metadata": {},
   "source": [
    "END OF ASSIGNMENT"
   ]
  },
  {
   "cell_type": "code",
   "execution_count": null,
   "id": "dd9e96f2",
   "metadata": {},
   "outputs": [],
   "source": []
  }
 ],
 "metadata": {
  "kernelspec": {
   "display_name": "Python 3 (ipykernel)",
   "language": "python",
   "name": "python3"
  },
  "language_info": {
   "codemirror_mode": {
    "name": "ipython",
    "version": 3
   },
   "file_extension": ".py",
   "mimetype": "text/x-python",
   "name": "python",
   "nbconvert_exporter": "python",
   "pygments_lexer": "ipython3",
   "version": "3.11.4"
  }
 },
 "nbformat": 4,
 "nbformat_minor": 5
}
